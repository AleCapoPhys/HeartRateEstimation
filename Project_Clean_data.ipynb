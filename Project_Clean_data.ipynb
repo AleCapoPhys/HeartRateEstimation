{
 "cells": [
  {
   "cell_type": "markdown",
   "metadata": {},
   "source": [
    "# HEART RATE ESTIMATION\n",
    "\n",
    "Seismocardiography([SCG](https://www.ncbi.nlm.nih.gov/pubmed/24111357)) is a very promising technique to measure Heart Rate (HR) and Respiratory Rate (RR) with the detector positioned above sternum. It is generally based on accelerometer and gyroscope readings or a combination of them. \n",
    "\n",
    "Ballistocardiography([BCG](https://en.wikipedia.org/wiki/Ballistocardiography)) is an another technique to estimate heart and respiratory rate with combination of both accelerometer and gyroscope. It is an indirect evaluation of HR and RR since the contact between the device and the body of the subject is not required (e.g., accelerometer platform mounted under the slats of the bed).   \n",
    "  \n",
    "MuSe(Multi-Sensor miniaturized, low-power, wireless [IMU](https://en.wikipedia.org/wiki/Inertial_measurement_unit)) is an Inertial Measurement Unit (IMU) provide by [221e](https://www.221e.com). In the context of this project, It allows to record the inertial data necessary for the estimation of SCG and BCG.\n",
    "\n",
    "The goal of this assignment is to estimate the heart rate of an healthy subject, given linear acceleration and angular velocity measurements recorded by using the aforementioned MuSe platform. \n",
    "The study must be performed on two datasets: the first is the compulsory one (**center_sternum.txt**) while the second is left at the discretion of the group, among those made available for the assignment.\n",
    "\n",
    "**N.B: Remember that normal beat is around [40-100] bpm.**\n",
    "\n",
    "\n",
    "## Dataset\n",
    "\n",
    "The data is provided in .txt file. During this study two healthy subjects were involved with their informed consent. The first dataset was recorded on one subject, while all the other datasets were recorded on the second subject. \n",
    "\n",
    "This is the first mandatory file:\n",
    "\n",
    "* **center_sternum.txt**: MuSe placed on the center of the sternum. The subject was lying supine on his left and right side, respectively. \n",
    "\n",
    "\n",
    "Choose one of the following files in order to complete the task.\n",
    "\n",
    "1. **1_Stave_supine_static.txt**: Sensor placed on a bed stave, under the mattress at the level of the chest. The subject was lying supine on his left and right side. \n",
    "* **2_Mattress_supine.txt**: Sensor placed on the mattress, near one corner but not under the pillow. The subject laid in the same position as above. \n",
    "* **3_Subject_sitting_chair.txt**: Sensor placed on the desk: the subject, sitting on a chair, leaned forearms and hands on the desk. \n",
    "* **4_Chest_sweater.txt**: Sensor placed on the subject chest directly on a sweater. \n",
    "* **5_Under_chair.txt**: Subject sitting on a chair, sensor placed under the seat of the chair. \n",
    "\n",
    "All .txt files give 16 columns index, in particular: \n",
    "\n",
    "* Log Freq stands for the acquisition  in Hz (i.e., sampling interval is constant).\n",
    "* AccX, AccY, AccZ are the measured magnitude of linear acceleration along each axis.\n",
    "* GyroX, GyroY, GyroZ are the measured magnitude of angular velocity along each axis.\n",
    "* MagnX, MagnY, MagnZ are the measured magnitude of magnetic field along each axis.\n",
    "* qw, qi, qj, qk are the quaternion components, representing the spatial orientation of the Muse system.\n",
    "\n",
    "Each dataset includes, in addition to the data, one file containing the adopted configuration of the MuSe(**README1.txt** for the first measurement, and in **README_5.txt** for the other measurement).\n",
    " \n",
    "\n",
    "\n",
    "## Assignment\n",
    "\n",
    "\n",
    "\n",
    "1. Data preparation:\n",
    "\n",
    "    1.1. Load the txt file and select only the columns you are interesting in, in order to do a complete data analysis (e.g. Log Freq, AccX, ... )\n",
    "    \n",
    "    1.2. Plot selected data in function of time and choose a properly time window over which to perform the analysis. Pay attention on time rappresentation and the measurament unit.\n",
    "    \n",
    "    1.3. In order to make an appropiate work, decide if take care about some particular axis or some combination of them as well as derived features for the next step of the task. Motivate your choice.  \n",
    "\n",
    "\n",
    "    \n",
    "2. Time and frequency analysis:\n",
    "\n",
    "    2.1. Statistical analysis: provide a statistical description of the chosen dataset. Statistical descriptors includes for example mean, median, variance, standard deviation, 25th and 75th percentiles, and correlation coefficients. Investigate what could be the most interesting descriptors for this type of data, motivating the choices.\n",
    "    \n",
    "    2.2. Fourier Analysis: Perform a frequency analysis of the data. Look at the spectrum and explain what you see. Use this step in order to properly design the filters in the following step. \n",
    "\n",
    "\n",
    "\n",
    "3. Filter:\n",
    "    \n",
    "    Implement your own filter, trying to extrapolate heart rate signal. Hint:\n",
    "    \n",
    "    (a) Directly from Fourier Analysis, antitrasform data looking for the most interesting frequency band.\n",
    "    \n",
    "    (b) Choose the appropriate Lowpass/Bandpass/Highpass filter.\n",
    "    \n",
    "    (c) Wavelet trasform (a powerfull instrument that make a time and frequency analysis of signal).\n",
    "    \n",
    "    (d) Find another method by yourselves.\n",
    "    \n",
    "    Motivate your choice.\n",
    "    \n",
    "    \n",
    "4. Metrics:\n",
    "\n",
    "    4.1. Heart Beat Per Minute(BPM): extrapolate BPM, make an histogram of the result. Does it follow a partiular distribution? \n",
    "    \n",
    "    4.2. Heart Rate Variability(HRV): extrapolate HRV, explain why this parameter is important, and plot the results.\n",
    "\n",
    "\n",
    "\n",
    "5. (OPTIONAL) Algorithm: Elaborate a simple algorithm to extrapolate heart beat even when filter failed (e.g. look at particular threshold...).  \n",
    "\n",
    "\n",
    "\n",
    "6. Conclusion: \n",
    "\n",
    "    Summarise the obtained results, in particular making a comparison between the two files analysed. Highlight limitation and critical issues encountered during the work, motivating the most relevant contribution given by your solution.\n",
    "\n",
    "\n",
    "\n",
    "\n",
    "**N.B: Indicate the contribution, to achieving the result, of each member of the group.**\n"
   ]
  },
  {
   "cell_type": "markdown",
   "metadata": {},
   "source": [
    "## Load the required packages"
   ]
  },
  {
   "cell_type": "code",
   "execution_count": 1,
   "metadata": {},
   "outputs": [],
   "source": [
    "import pandas as pd\n",
    "import numpy as np\n",
    "import matplotlib.pyplot as plt\n",
    "from IPython.display import display"
   ]
  },
  {
   "cell_type": "code",
   "execution_count": null,
   "metadata": {},
   "outputs": [],
   "source": [
    "#empty cell, do not delete, just edit"
   ]
  },
  {
   "cell_type": "code",
   "execution_count": null,
   "metadata": {},
   "outputs": [],
   "source": [
    "#empty cell, do not delete, just edit"
   ]
  },
  {
   "cell_type": "code",
   "execution_count": null,
   "metadata": {},
   "outputs": [],
   "source": [
    "#empty cell, do not delete, just edit"
   ]
  },
  {
   "cell_type": "markdown",
   "metadata": {},
   "source": [
    "## Read the data and correct it with respect to the calibration\n",
    "\n",
    "In these cells I read the data w.r.t. the calibration and i've added a time column (by taking steps of 1/samplingfrequency)"
   ]
  },
  {
   "cell_type": "code",
   "execution_count": 2,
   "metadata": {
    "scrolled": false
   },
   "outputs": [
    {
     "data": {
      "text/html": [
       "<div>\n",
       "<style scoped>\n",
       "    .dataframe tbody tr th:only-of-type {\n",
       "        vertical-align: middle;\n",
       "    }\n",
       "\n",
       "    .dataframe tbody tr th {\n",
       "        vertical-align: top;\n",
       "    }\n",
       "\n",
       "    .dataframe thead th {\n",
       "        text-align: right;\n",
       "    }\n",
       "</style>\n",
       "<table border=\"1\" class=\"dataframe\">\n",
       "  <thead>\n",
       "    <tr style=\"text-align: right;\">\n",
       "      <th></th>\n",
       "      <th>Log Mode</th>\n",
       "      <th>Log Freq</th>\n",
       "      <th>Timestamp</th>\n",
       "      <th>AccX</th>\n",
       "      <th>AccY</th>\n",
       "      <th>AccZ</th>\n",
       "      <th>GyroX</th>\n",
       "      <th>GyroY</th>\n",
       "      <th>GyroZ</th>\n",
       "      <th>MagnX</th>\n",
       "      <th>MagnY</th>\n",
       "      <th>MagnZ</th>\n",
       "      <th>qw</th>\n",
       "      <th>qi</th>\n",
       "      <th>qj</th>\n",
       "      <th>qk</th>\n",
       "      <th>Time</th>\n",
       "    </tr>\n",
       "  </thead>\n",
       "  <tbody>\n",
       "    <tr>\n",
       "      <th>0</th>\n",
       "      <td>5</td>\n",
       "      <td>200</td>\n",
       "      <td>1576222772</td>\n",
       "      <td>943.007996</td>\n",
       "      <td>410.325442</td>\n",
       "      <td>130.264244</td>\n",
       "      <td>-9.066652</td>\n",
       "      <td>-11.280817</td>\n",
       "      <td>0.686183</td>\n",
       "      <td>-502.261441</td>\n",
       "      <td>-683.404962</td>\n",
       "      <td>-141.669690</td>\n",
       "      <td>0.792622</td>\n",
       "      <td>0.254952</td>\n",
       "      <td>-0.553850</td>\n",
       "      <td>-0.000031</td>\n",
       "      <td>0.000</td>\n",
       "    </tr>\n",
       "    <tr>\n",
       "      <th>1</th>\n",
       "      <td>5</td>\n",
       "      <td>200</td>\n",
       "      <td>1576222772</td>\n",
       "      <td>965.209969</td>\n",
       "      <td>363.380701</td>\n",
       "      <td>148.635086</td>\n",
       "      <td>3.940982</td>\n",
       "      <td>-9.326617</td>\n",
       "      <td>-8.687863</td>\n",
       "      <td>-502.257960</td>\n",
       "      <td>-683.400705</td>\n",
       "      <td>-140.794890</td>\n",
       "      <td>0.736461</td>\n",
       "      <td>0.275124</td>\n",
       "      <td>-0.617969</td>\n",
       "      <td>0.006806</td>\n",
       "      <td>0.005</td>\n",
       "    </tr>\n",
       "    <tr>\n",
       "      <th>2</th>\n",
       "      <td>5</td>\n",
       "      <td>200</td>\n",
       "      <td>1576222772</td>\n",
       "      <td>985.689106</td>\n",
       "      <td>356.065246</td>\n",
       "      <td>138.465450</td>\n",
       "      <td>9.467696</td>\n",
       "      <td>-1.998369</td>\n",
       "      <td>-8.168779</td>\n",
       "      <td>-502.257960</td>\n",
       "      <td>-683.400705</td>\n",
       "      <td>-140.794890</td>\n",
       "      <td>0.729465</td>\n",
       "      <td>0.275246</td>\n",
       "      <td>-0.626118</td>\n",
       "      <td>0.009827</td>\n",
       "      <td>0.010</td>\n",
       "    </tr>\n",
       "    <tr>\n",
       "      <th>3</th>\n",
       "      <td>5</td>\n",
       "      <td>200</td>\n",
       "      <td>1576222772</td>\n",
       "      <td>950.852176</td>\n",
       "      <td>393.026437</td>\n",
       "      <td>148.047237</td>\n",
       "      <td>15.635636</td>\n",
       "      <td>5.482547</td>\n",
       "      <td>-6.703130</td>\n",
       "      <td>-502.207976</td>\n",
       "      <td>-685.226199</td>\n",
       "      <td>-139.928605</td>\n",
       "      <td>0.723413</td>\n",
       "      <td>0.277200</td>\n",
       "      <td>-0.632221</td>\n",
       "      <td>0.011383</td>\n",
       "      <td>0.015</td>\n",
       "    </tr>\n",
       "    <tr>\n",
       "      <th>4</th>\n",
       "      <td>5</td>\n",
       "      <td>200</td>\n",
       "      <td>1576222772</td>\n",
       "      <td>968.040164</td>\n",
       "      <td>402.461108</td>\n",
       "      <td>159.595720</td>\n",
       "      <td>22.979146</td>\n",
       "      <td>8.368043</td>\n",
       "      <td>3.296870</td>\n",
       "      <td>-502.207976</td>\n",
       "      <td>-685.226199</td>\n",
       "      <td>-139.928605</td>\n",
       "      <td>0.721948</td>\n",
       "      <td>0.280007</td>\n",
       "      <td>-0.632679</td>\n",
       "      <td>0.010193</td>\n",
       "      <td>0.020</td>\n",
       "    </tr>\n",
       "    <tr>\n",
       "      <th>...</th>\n",
       "      <td>...</td>\n",
       "      <td>...</td>\n",
       "      <td>...</td>\n",
       "      <td>...</td>\n",
       "      <td>...</td>\n",
       "      <td>...</td>\n",
       "      <td>...</td>\n",
       "      <td>...</td>\n",
       "      <td>...</td>\n",
       "      <td>...</td>\n",
       "      <td>...</td>\n",
       "      <td>...</td>\n",
       "      <td>...</td>\n",
       "      <td>...</td>\n",
       "      <td>...</td>\n",
       "      <td>...</td>\n",
       "      <td>...</td>\n",
       "    </tr>\n",
       "    <tr>\n",
       "      <th>16501</th>\n",
       "      <td>5</td>\n",
       "      <td>200</td>\n",
       "      <td>1576222847</td>\n",
       "      <td>954.849739</td>\n",
       "      <td>269.000099</td>\n",
       "      <td>5.047576</td>\n",
       "      <td>-0.578102</td>\n",
       "      <td>5.268807</td>\n",
       "      <td>-1.390153</td>\n",
       "      <td>-539.805161</td>\n",
       "      <td>-644.743591</td>\n",
       "      <td>-96.144764</td>\n",
       "      <td>0.650810</td>\n",
       "      <td>0.379162</td>\n",
       "      <td>-0.636402</td>\n",
       "      <td>0.166356</td>\n",
       "      <td>82.505</td>\n",
       "    </tr>\n",
       "    <tr>\n",
       "      <th>16502</th>\n",
       "      <td>5</td>\n",
       "      <td>200</td>\n",
       "      <td>1576222847</td>\n",
       "      <td>951.006879</td>\n",
       "      <td>266.016847</td>\n",
       "      <td>9.709647</td>\n",
       "      <td>-0.761308</td>\n",
       "      <td>5.452013</td>\n",
       "      <td>-1.420687</td>\n",
       "      <td>-539.778428</td>\n",
       "      <td>-645.654210</td>\n",
       "      <td>-95.274222</td>\n",
       "      <td>0.650239</td>\n",
       "      <td>0.379803</td>\n",
       "      <td>-0.636708</td>\n",
       "      <td>0.165960</td>\n",
       "      <td>82.510</td>\n",
       "    </tr>\n",
       "    <tr>\n",
       "      <th>16503</th>\n",
       "      <td>5</td>\n",
       "      <td>200</td>\n",
       "      <td>1576222847</td>\n",
       "      <td>963.711402</td>\n",
       "      <td>268.397270</td>\n",
       "      <td>-4.573267</td>\n",
       "      <td>-1.127720</td>\n",
       "      <td>6.337509</td>\n",
       "      <td>-1.619160</td>\n",
       "      <td>-539.778428</td>\n",
       "      <td>-645.654210</td>\n",
       "      <td>-95.274222</td>\n",
       "      <td>0.649365</td>\n",
       "      <td>0.380627</td>\n",
       "      <td>-0.637227</td>\n",
       "      <td>0.165502</td>\n",
       "      <td>82.515</td>\n",
       "    </tr>\n",
       "    <tr>\n",
       "      <th>16504</th>\n",
       "      <td>5</td>\n",
       "      <td>200</td>\n",
       "      <td>1576222847</td>\n",
       "      <td>961.972293</td>\n",
       "      <td>278.538659</td>\n",
       "      <td>3.067677</td>\n",
       "      <td>-1.539934</td>\n",
       "      <td>6.627585</td>\n",
       "      <td>-2.306183</td>\n",
       "      <td>-540.740736</td>\n",
       "      <td>-643.796949</td>\n",
       "      <td>-94.394388</td>\n",
       "      <td>0.648973</td>\n",
       "      <td>0.381329</td>\n",
       "      <td>-0.637348</td>\n",
       "      <td>0.164953</td>\n",
       "      <td>82.520</td>\n",
       "    </tr>\n",
       "    <tr>\n",
       "      <th>16505</th>\n",
       "      <td>5</td>\n",
       "      <td>200</td>\n",
       "      <td>1576222847</td>\n",
       "      <td>956.299177</td>\n",
       "      <td>276.223143</td>\n",
       "      <td>3.320295</td>\n",
       "      <td>-1.952148</td>\n",
       "      <td>7.024532</td>\n",
       "      <td>-2.061908</td>\n",
       "      <td>-540.740736</td>\n",
       "      <td>-643.796949</td>\n",
       "      <td>-94.394388</td>\n",
       "      <td>0.648462</td>\n",
       "      <td>0.382336</td>\n",
       "      <td>-0.637471</td>\n",
       "      <td>0.164159</td>\n",
       "      <td>82.525</td>\n",
       "    </tr>\n",
       "  </tbody>\n",
       "</table>\n",
       "<p>16506 rows × 17 columns</p>\n",
       "</div>"
      ],
      "text/plain": [
       "       Log Mode  Log Freq   Timestamp        AccX        AccY        AccZ  \\\n",
       "0             5       200  1576222772  943.007996  410.325442  130.264244   \n",
       "1             5       200  1576222772  965.209969  363.380701  148.635086   \n",
       "2             5       200  1576222772  985.689106  356.065246  138.465450   \n",
       "3             5       200  1576222772  950.852176  393.026437  148.047237   \n",
       "4             5       200  1576222772  968.040164  402.461108  159.595720   \n",
       "...         ...       ...         ...         ...         ...         ...   \n",
       "16501         5       200  1576222847  954.849739  269.000099    5.047576   \n",
       "16502         5       200  1576222847  951.006879  266.016847    9.709647   \n",
       "16503         5       200  1576222847  963.711402  268.397270   -4.573267   \n",
       "16504         5       200  1576222847  961.972293  278.538659    3.067677   \n",
       "16505         5       200  1576222847  956.299177  276.223143    3.320295   \n",
       "\n",
       "           GyroX      GyroY     GyroZ       MagnX       MagnY       MagnZ  \\\n",
       "0      -9.066652 -11.280817  0.686183 -502.261441 -683.404962 -141.669690   \n",
       "1       3.940982  -9.326617 -8.687863 -502.257960 -683.400705 -140.794890   \n",
       "2       9.467696  -1.998369 -8.168779 -502.257960 -683.400705 -140.794890   \n",
       "3      15.635636   5.482547 -6.703130 -502.207976 -685.226199 -139.928605   \n",
       "4      22.979146   8.368043  3.296870 -502.207976 -685.226199 -139.928605   \n",
       "...          ...        ...       ...         ...         ...         ...   \n",
       "16501  -0.578102   5.268807 -1.390153 -539.805161 -644.743591  -96.144764   \n",
       "16502  -0.761308   5.452013 -1.420687 -539.778428 -645.654210  -95.274222   \n",
       "16503  -1.127720   6.337509 -1.619160 -539.778428 -645.654210  -95.274222   \n",
       "16504  -1.539934   6.627585 -2.306183 -540.740736 -643.796949  -94.394388   \n",
       "16505  -1.952148   7.024532 -2.061908 -540.740736 -643.796949  -94.394388   \n",
       "\n",
       "             qw        qi        qj        qk    Time  \n",
       "0      0.792622  0.254952 -0.553850 -0.000031   0.000  \n",
       "1      0.736461  0.275124 -0.617969  0.006806   0.005  \n",
       "2      0.729465  0.275246 -0.626118  0.009827   0.010  \n",
       "3      0.723413  0.277200 -0.632221  0.011383   0.015  \n",
       "4      0.721948  0.280007 -0.632679  0.010193   0.020  \n",
       "...         ...       ...       ...       ...     ...  \n",
       "16501  0.650810  0.379162 -0.636402  0.166356  82.505  \n",
       "16502  0.650239  0.379803 -0.636708  0.165960  82.510  \n",
       "16503  0.649365  0.380627 -0.637227  0.165502  82.515  \n",
       "16504  0.648973  0.381329 -0.637348  0.164953  82.520  \n",
       "16505  0.648462  0.382336 -0.637471  0.164159  82.525  \n",
       "\n",
       "[16506 rows x 17 columns]"
      ]
     },
     "metadata": {},
     "output_type": "display_data"
    }
   ],
   "source": [
    "df = pd.read_csv('center_sternum.txt',sep='\\t')  \n",
    "\n",
    "#This data isn't correct, needs to be calibrated\n",
    "\n",
    "gyro_offset = np.array([-2.242224,2.963463,-0.718397])\n",
    "acc_calibration = np.array([[1.000966,-0.002326418,-0.0006995499],\n",
    "                    [-0.002326379,0.9787045,-0.001540918],\n",
    "                    [-0.0006995811,-0.001540928,1.00403]])\n",
    "acc_offset = np.array([-3.929942,-13.74679,60.67546])\n",
    "magn_calibration=np.array([[0.9192851,-0.02325168,0.003480837],\n",
    "                   [-0.02325175,0.914876,0.004257396],\n",
    "                   [0.003481006,0.004257583,0.8748001]])\n",
    "magn_offset=np.array([-95.67974,-244.9142,17.71132])\n",
    "\n",
    "df[['GyroX','GyroY','GyroZ']] = df[['GyroX','GyroY','GyroZ']] + gyro_offset.T\n",
    "df[['AccX','AccY','AccZ']] = np.dot(df[['AccX','AccY','AccZ']],acc_calibration.T) + acc_offset.T\n",
    "df[['MagnX','MagnY','MagnZ']] = np.dot(df[['MagnX','MagnY','MagnZ']],magn_calibration.T) + magn_offset.T\n",
    "\n",
    "#Add time column by taking time steps of 1/logFreq\n",
    "\n",
    "df['Time'] = np.arange(0, len(df['Log Freq']))/df['Log Freq'][0]\n",
    "display(df)"
   ]
  },
  {
   "cell_type": "code",
   "execution_count": null,
   "metadata": {},
   "outputs": [],
   "source": [
    "#empty cell, do not delete, just edit"
   ]
  },
  {
   "cell_type": "code",
   "execution_count": null,
   "metadata": {},
   "outputs": [],
   "source": [
    "#empty cell, do not delete, just edit"
   ]
  },
  {
   "cell_type": "code",
   "execution_count": null,
   "metadata": {},
   "outputs": [],
   "source": [
    "#empty cell, do not delete, just edit"
   ]
  },
  {
   "cell_type": "markdown",
   "metadata": {},
   "source": [
    "## Plot the data and choose time frame"
   ]
  },
  {
   "cell_type": "code",
   "execution_count": 3,
   "metadata": {},
   "outputs": [
    {
     "data": {
      "image/png": "[encoded data removed]",
      "text/plain": [
       "<Figure size 1224x720 with 3 Axes>"
      ]
     },
     "metadata": {
      "needs_background": "light"
     },
     "output_type": "display_data"
    }
   ],
   "source": [
    "(fig, (ax1,ax2,ax3)) = plt.subplots(3,1,figsize=(17,10), sharex=True)\n",
    "\n",
    "ax1.set_title('Accelerometer Readings')\n",
    "ax1.plot(df['Time'], df['AccX'], color= 'teal',label='X')\n",
    "ax1.plot(df['Time'], df['AccY'], color= 'lightsteelblue',label='Y')\n",
    "ax1.plot(df['Time'], df['AccZ'], color= 'darkblue',label='Z')\n",
    "ax1.axvline(x = 7, color = 'red', alpha = 0.5)\n",
    "ax1.axvline(x = 70, color = 'red', alpha = 0.5)\n",
    "ax1.set_ylabel('Acceleration [mg]')\n",
    "ax1.legend()\n",
    "\n",
    "ax2.plot(df['Time'], df['GyroX'],color = 'indianred', label='X')\n",
    "ax2.plot(df['Time'], df['GyroY'],color = 'red' , label='Y')\n",
    "ax2.plot(df['Time'], df['GyroZ'],color = 'orangered' , label='Z')\n",
    "ax2.set_title('Gyroscope Readings')\n",
    "ax2.axvline(x = 7, color = 'red', alpha = 0.5)\n",
    "ax2.axvline(x = 70, color = 'red', alpha = 0.5)\n",
    "ax2.set_ylabel('Angular Velocity [dps]')\n",
    "ax2.legend()\n",
    "\n",
    "ax3.plot(df['Time'], df['MagnX'],color = 'forestgreen' , label='X')\n",
    "ax3.plot(df['Time'], df['MagnY'], color = 'lime', label='Y')\n",
    "ax3.plot(df['Time'], df['MagnZ'], color = 'springgreen', label='Z')\n",
    "ax3.set_title('Magnetometer Readings')\n",
    "ax3.axvline(x = 7, color = 'red', alpha = 0.5)\n",
    "ax3.axvline(x = 70, color = 'red', alpha = 0.5)\n",
    "ax3.set_xlabel('Time [s]')\n",
    "ax3.set_ylabel('Magnetic Field [mG]') \n",
    "ax3.legend()\n",
    "\n",
    "plt.show()"
   ]
  },
  {
   "cell_type": "code",
   "execution_count": null,
   "metadata": {},
   "outputs": [],
   "source": [
    "#empty cell, do not delete, just edit"
   ]
  },
  {
   "cell_type": "code",
   "execution_count": null,
   "metadata": {},
   "outputs": [],
   "source": [
    "#empty cell, do not delete, just edit"
   ]
  },
  {
   "cell_type": "code",
   "execution_count": null,
   "metadata": {},
   "outputs": [],
   "source": [
    "#empty cell, do not delete, just edit"
   ]
  },
  {
   "cell_type": "markdown",
   "metadata": {},
   "source": [
    "## Remove unimportant columns and limit time between thresholds"
   ]
  },
  {
   "cell_type": "code",
   "execution_count": 4,
   "metadata": {},
   "outputs": [
    {
     "data": {
      "text/html": [
       "<div>\n",
       "<style scoped>\n",
       "    .dataframe tbody tr th:only-of-type {\n",
       "        vertical-align: middle;\n",
       "    }\n",
       "\n",
       "    .dataframe tbody tr th {\n",
       "        vertical-align: top;\n",
       "    }\n",
       "\n",
       "    .dataframe thead th {\n",
       "        text-align: right;\n",
       "    }\n",
       "</style>\n",
       "<table border=\"1\" class=\"dataframe\">\n",
       "  <thead>\n",
       "    <tr style=\"text-align: right;\">\n",
       "      <th></th>\n",
       "      <th>AccX</th>\n",
       "      <th>AccY</th>\n",
       "      <th>AccZ</th>\n",
       "      <th>GyroX</th>\n",
       "      <th>GyroY</th>\n",
       "      <th>GyroZ</th>\n",
       "    </tr>\n",
       "  </thead>\n",
       "  <tbody>\n",
       "    <tr>\n",
       "      <th>1400</th>\n",
       "      <td>-40.966811</td>\n",
       "      <td>97.029054</td>\n",
       "      <td>-875.184185</td>\n",
       "      <td>-3.845277</td>\n",
       "      <td>6.826058</td>\n",
       "      <td>-1.466489</td>\n",
       "    </tr>\n",
       "    <tr>\n",
       "      <th>1401</th>\n",
       "      <td>-34.987088</td>\n",
       "      <td>86.098363</td>\n",
       "      <td>-919.513010</td>\n",
       "      <td>-3.723140</td>\n",
       "      <td>6.642852</td>\n",
       "      <td>-1.909237</td>\n",
       "    </tr>\n",
       "    <tr>\n",
       "      <th>1402</th>\n",
       "      <td>-40.518149</td>\n",
       "      <td>94.134202</td>\n",
       "      <td>-895.697231</td>\n",
       "      <td>-3.692606</td>\n",
       "      <td>6.993997</td>\n",
       "      <td>-1.603893</td>\n",
       "    </tr>\n",
       "    <tr>\n",
       "      <th>1403</th>\n",
       "      <td>-35.181772</td>\n",
       "      <td>86.193470</td>\n",
       "      <td>-903.405417</td>\n",
       "      <td>-3.417797</td>\n",
       "      <td>7.207738</td>\n",
       "      <td>-1.802366</td>\n",
       "    </tr>\n",
       "    <tr>\n",
       "      <th>1404</th>\n",
       "      <td>-31.341134</td>\n",
       "      <td>88.631706</td>\n",
       "      <td>-903.044484</td>\n",
       "      <td>-3.555201</td>\n",
       "      <td>7.268807</td>\n",
       "      <td>-1.985573</td>\n",
       "    </tr>\n",
       "    <tr>\n",
       "      <th>...</th>\n",
       "      <td>...</td>\n",
       "      <td>...</td>\n",
       "      <td>...</td>\n",
       "      <td>...</td>\n",
       "      <td>...</td>\n",
       "      <td>...</td>\n",
       "    </tr>\n",
       "    <tr>\n",
       "      <th>13996</th>\n",
       "      <td>-34.443708</td>\n",
       "      <td>104.012984</td>\n",
       "      <td>-884.386623</td>\n",
       "      <td>-5.417797</td>\n",
       "      <td>6.322242</td>\n",
       "      <td>-1.497023</td>\n",
       "    </tr>\n",
       "    <tr>\n",
       "      <th>13997</th>\n",
       "      <td>-36.395733</td>\n",
       "      <td>103.541515</td>\n",
       "      <td>-885.425685</td>\n",
       "      <td>-5.234590</td>\n",
       "      <td>6.642852</td>\n",
       "      <td>-1.268015</td>\n",
       "    </tr>\n",
       "    <tr>\n",
       "      <th>13998</th>\n",
       "      <td>-26.245083</td>\n",
       "      <td>99.049690</td>\n",
       "      <td>-891.489056</td>\n",
       "      <td>-5.265125</td>\n",
       "      <td>6.749723</td>\n",
       "      <td>-1.283282</td>\n",
       "    </tr>\n",
       "    <tr>\n",
       "      <th>13999</th>\n",
       "      <td>-42.264295</td>\n",
       "      <td>104.980254</td>\n",
       "      <td>-880.401686</td>\n",
       "      <td>-5.097186</td>\n",
       "      <td>6.383310</td>\n",
       "      <td>-1.603893</td>\n",
       "    </tr>\n",
       "    <tr>\n",
       "      <th>14000</th>\n",
       "      <td>-45.003985</td>\n",
       "      <td>99.182862</td>\n",
       "      <td>-872.061215</td>\n",
       "      <td>-5.142987</td>\n",
       "      <td>5.910028</td>\n",
       "      <td>-1.558092</td>\n",
       "    </tr>\n",
       "  </tbody>\n",
       "</table>\n",
       "<p>12601 rows × 6 columns</p>\n",
       "</div>"
      ],
      "text/plain": [
       "            AccX        AccY        AccZ     GyroX     GyroY     GyroZ\n",
       "1400  -40.966811   97.029054 -875.184185 -3.845277  6.826058 -1.466489\n",
       "1401  -34.987088   86.098363 -919.513010 -3.723140  6.642852 -1.909237\n",
       "1402  -40.518149   94.134202 -895.697231 -3.692606  6.993997 -1.603893\n",
       "1403  -35.181772   86.193470 -903.405417 -3.417797  7.207738 -1.802366\n",
       "1404  -31.341134   88.631706 -903.044484 -3.555201  7.268807 -1.985573\n",
       "...          ...         ...         ...       ...       ...       ...\n",
       "13996 -34.443708  104.012984 -884.386623 -5.417797  6.322242 -1.497023\n",
       "13997 -36.395733  103.541515 -885.425685 -5.234590  6.642852 -1.268015\n",
       "13998 -26.245083   99.049690 -891.489056 -5.265125  6.749723 -1.283282\n",
       "13999 -42.264295  104.980254 -880.401686 -5.097186  6.383310 -1.603893\n",
       "14000 -45.003985   99.182862 -872.061215 -5.142987  5.910028 -1.558092\n",
       "\n",
       "[12601 rows x 6 columns]"
      ]
     },
     "metadata": {},
     "output_type": "display_data"
    }
   ],
   "source": [
    "df_time_frame = df.loc[(df['Time'] >= 7) & (df['Time'] <= 70)] #limit analysis in specified time frame\n",
    "df_time_frame= df_time_frame.drop(['Log Mode', 'Log Freq', 'Timestamp','qw', 'qi', 'qj', 'qk', 'Time', 'MagnX', 'MagnY', 'MagnZ'], axis=1) #drop uninmportant columns\n",
    "display(df_time_frame)"
   ]
  },
  {
   "cell_type": "code",
   "execution_count": null,
   "metadata": {},
   "outputs": [],
   "source": [
    "#empty cell, do not delete, just edit"
   ]
  },
  {
   "cell_type": "code",
   "execution_count": null,
   "metadata": {},
   "outputs": [],
   "source": [
    "#empty cell, do not delete, just edit"
   ]
  },
  {
   "cell_type": "code",
   "execution_count": null,
   "metadata": {},
   "outputs": [],
   "source": [
    "#empty cell, do not delete, just edit"
   ]
  },
  {
   "cell_type": "markdown",
   "metadata": {},
   "source": [
    "# STATISTICAL QUANTITIES\n",
    "\n",
    "In these cells I've displayed the statistical quantities and centered the data. Ideally we would now apply a PCA procedure on the dataset"
   ]
  },
  {
   "cell_type": "code",
   "execution_count": 5,
   "metadata": {},
   "outputs": [
    {
     "data": {
      "text/html": [
       "<div>\n",
       "<style scoped>\n",
       "    .dataframe tbody tr th:only-of-type {\n",
       "        vertical-align: middle;\n",
       "    }\n",
       "\n",
       "    .dataframe tbody tr th {\n",
       "        vertical-align: top;\n",
       "    }\n",
       "\n",
       "    .dataframe thead th {\n",
       "        text-align: right;\n",
       "    }\n",
       "</style>\n",
       "<table border=\"1\" class=\"dataframe\">\n",
       "  <thead>\n",
       "    <tr style=\"text-align: right;\">\n",
       "      <th></th>\n",
       "      <th>AccX</th>\n",
       "      <th>AccY</th>\n",
       "      <th>AccZ</th>\n",
       "      <th>GyroX</th>\n",
       "      <th>GyroY</th>\n",
       "      <th>GyroZ</th>\n",
       "    </tr>\n",
       "  </thead>\n",
       "  <tbody>\n",
       "    <tr>\n",
       "      <th>mean</th>\n",
       "      <td>-34.301107</td>\n",
       "      <td>100.672668</td>\n",
       "      <td>-892.751709</td>\n",
       "      <td>-4.328942</td>\n",
       "      <td>6.645621</td>\n",
       "      <td>-1.585198</td>\n",
       "    </tr>\n",
       "    <tr>\n",
       "      <th>median</th>\n",
       "      <td>-34.255264</td>\n",
       "      <td>100.925927</td>\n",
       "      <td>-893.136026</td>\n",
       "      <td>-4.394896</td>\n",
       "      <td>6.597051</td>\n",
       "      <td>-1.573359</td>\n",
       "    </tr>\n",
       "    <tr>\n",
       "      <th>variance</th>\n",
       "      <td>50.283779</td>\n",
       "      <td>30.225341</td>\n",
       "      <td>214.154767</td>\n",
       "      <td>2.100338</td>\n",
       "      <td>0.538998</td>\n",
       "      <td>0.156231</td>\n",
       "    </tr>\n",
       "    <tr>\n",
       "      <th>standard deviation</th>\n",
       "      <td>7.091106</td>\n",
       "      <td>5.497758</td>\n",
       "      <td>14.634028</td>\n",
       "      <td>1.449254</td>\n",
       "      <td>0.734165</td>\n",
       "      <td>0.395261</td>\n",
       "    </tr>\n",
       "    <tr>\n",
       "      <th>25% percentile</th>\n",
       "      <td>-38.951062</td>\n",
       "      <td>97.261279</td>\n",
       "      <td>-901.522903</td>\n",
       "      <td>-4.944514</td>\n",
       "      <td>6.230639</td>\n",
       "      <td>-1.832901</td>\n",
       "    </tr>\n",
       "    <tr>\n",
       "      <th>75% percentile</th>\n",
       "      <td>-29.585315</td>\n",
       "      <td>104.273711</td>\n",
       "      <td>-884.748964</td>\n",
       "      <td>-3.707873</td>\n",
       "      <td>6.963463</td>\n",
       "      <td>-1.329084</td>\n",
       "    </tr>\n",
       "  </tbody>\n",
       "</table>\n",
       "</div>"
      ],
      "text/plain": [
       "                         AccX        AccY        AccZ     GyroX     GyroY  \\\n",
       "mean               -34.301107  100.672668 -892.751709 -4.328942  6.645621   \n",
       "median             -34.255264  100.925927 -893.136026 -4.394896  6.597051   \n",
       "variance            50.283779   30.225341  214.154767  2.100338  0.538998   \n",
       "standard deviation   7.091106    5.497758   14.634028  1.449254  0.734165   \n",
       "25% percentile     -38.951062   97.261279 -901.522903 -4.944514  6.230639   \n",
       "75% percentile     -29.585315  104.273711 -884.748964 -3.707873  6.963463   \n",
       "\n",
       "                       GyroZ  \n",
       "mean               -1.585198  \n",
       "median             -1.573359  \n",
       "variance            0.156231  \n",
       "standard deviation  0.395261  \n",
       "25% percentile     -1.832901  \n",
       "75% percentile     -1.329084  "
      ]
     },
     "metadata": {},
     "output_type": "display_data"
    },
    {
     "data": {
      "text/html": [
       "<div>\n",
       "<style scoped>\n",
       "    .dataframe tbody tr th:only-of-type {\n",
       "        vertical-align: middle;\n",
       "    }\n",
       "\n",
       "    .dataframe tbody tr th {\n",
       "        vertical-align: top;\n",
       "    }\n",
       "\n",
       "    .dataframe thead th {\n",
       "        text-align: right;\n",
       "    }\n",
       "</style>\n",
       "<table border=\"1\" class=\"dataframe\">\n",
       "  <thead>\n",
       "    <tr style=\"text-align: right;\">\n",
       "      <th></th>\n",
       "      <th>AccX</th>\n",
       "      <th>AccY</th>\n",
       "      <th>AccZ</th>\n",
       "      <th>GyroX</th>\n",
       "      <th>GyroY</th>\n",
       "      <th>GyroZ</th>\n",
       "    </tr>\n",
       "  </thead>\n",
       "  <tbody>\n",
       "    <tr>\n",
       "      <th>1400</th>\n",
       "      <td>-0.940009</td>\n",
       "      <td>-0.662745</td>\n",
       "      <td>1.200457</td>\n",
       "      <td>0.333734</td>\n",
       "      <td>0.245772</td>\n",
       "      <td>0.300333</td>\n",
       "    </tr>\n",
       "    <tr>\n",
       "      <th>1401</th>\n",
       "      <td>-0.096738</td>\n",
       "      <td>-2.650954</td>\n",
       "      <td>-1.828704</td>\n",
       "      <td>0.418009</td>\n",
       "      <td>-0.003771</td>\n",
       "      <td>-0.819810</td>\n",
       "    </tr>\n",
       "    <tr>\n",
       "      <th>1402</th>\n",
       "      <td>-0.876738</td>\n",
       "      <td>-1.189297</td>\n",
       "      <td>-0.201279</td>\n",
       "      <td>0.439078</td>\n",
       "      <td>0.474521</td>\n",
       "      <td>-0.047297</td>\n",
       "    </tr>\n",
       "    <tr>\n",
       "      <th>1403</th>\n",
       "      <td>-0.124193</td>\n",
       "      <td>-2.633655</td>\n",
       "      <td>-0.728009</td>\n",
       "      <td>0.628699</td>\n",
       "      <td>0.765655</td>\n",
       "      <td>-0.549429</td>\n",
       "    </tr>\n",
       "    <tr>\n",
       "      <th>1404</th>\n",
       "      <td>0.417421</td>\n",
       "      <td>-2.190159</td>\n",
       "      <td>-0.703345</td>\n",
       "      <td>0.533889</td>\n",
       "      <td>0.848837</td>\n",
       "      <td>-1.012938</td>\n",
       "    </tr>\n",
       "    <tr>\n",
       "      <th>...</th>\n",
       "      <td>...</td>\n",
       "      <td>...</td>\n",
       "      <td>...</td>\n",
       "      <td>...</td>\n",
       "      <td>...</td>\n",
       "      <td>...</td>\n",
       "    </tr>\n",
       "    <tr>\n",
       "      <th>13996</th>\n",
       "      <td>-0.020110</td>\n",
       "      <td>0.607578</td>\n",
       "      <td>0.571619</td>\n",
       "      <td>-0.751321</td>\n",
       "      <td>-0.440472</td>\n",
       "      <td>0.223082</td>\n",
       "    </tr>\n",
       "    <tr>\n",
       "      <th>13997</th>\n",
       "      <td>-0.295388</td>\n",
       "      <td>0.521821</td>\n",
       "      <td>0.500616</td>\n",
       "      <td>-0.624906</td>\n",
       "      <td>-0.003771</td>\n",
       "      <td>0.802466</td>\n",
       "    </tr>\n",
       "    <tr>\n",
       "      <th>13998</th>\n",
       "      <td>1.136074</td>\n",
       "      <td>-0.295207</td>\n",
       "      <td>0.086282</td>\n",
       "      <td>-0.645976</td>\n",
       "      <td>0.141797</td>\n",
       "      <td>0.763840</td>\n",
       "    </tr>\n",
       "    <tr>\n",
       "      <th>13999</th>\n",
       "      <td>-1.122983</td>\n",
       "      <td>0.783517</td>\n",
       "      <td>0.843925</td>\n",
       "      <td>-0.530096</td>\n",
       "      <td>-0.357292</td>\n",
       "      <td>-0.047297</td>\n",
       "    </tr>\n",
       "    <tr>\n",
       "      <th>14000</th>\n",
       "      <td>-1.509338</td>\n",
       "      <td>-0.270984</td>\n",
       "      <td>1.413862</td>\n",
       "      <td>-0.561699</td>\n",
       "      <td>-1.001945</td>\n",
       "      <td>0.068579</td>\n",
       "    </tr>\n",
       "  </tbody>\n",
       "</table>\n",
       "<p>12601 rows × 6 columns</p>\n",
       "</div>"
      ],
      "text/plain": [
       "           AccX      AccY      AccZ     GyroX     GyroY     GyroZ\n",
       "1400  -0.940009 -0.662745  1.200457  0.333734  0.245772  0.300333\n",
       "1401  -0.096738 -2.650954 -1.828704  0.418009 -0.003771 -0.819810\n",
       "1402  -0.876738 -1.189297 -0.201279  0.439078  0.474521 -0.047297\n",
       "1403  -0.124193 -2.633655 -0.728009  0.628699  0.765655 -0.549429\n",
       "1404   0.417421 -2.190159 -0.703345  0.533889  0.848837 -1.012938\n",
       "...         ...       ...       ...       ...       ...       ...\n",
       "13996 -0.020110  0.607578  0.571619 -0.751321 -0.440472  0.223082\n",
       "13997 -0.295388  0.521821  0.500616 -0.624906 -0.003771  0.802466\n",
       "13998  1.136074 -0.295207  0.086282 -0.645976  0.141797  0.763840\n",
       "13999 -1.122983  0.783517  0.843925 -0.530096 -0.357292 -0.047297\n",
       "14000 -1.509338 -0.270984  1.413862 -0.561699 -1.001945  0.068579\n",
       "\n",
       "[12601 rows x 6 columns]"
      ]
     },
     "metadata": {},
     "output_type": "display_data"
    }
   ],
   "source": [
    "statistics = pd.DataFrame({\n",
    "    'mean'  : df_time_frame.mean(),\n",
    "    'median': df_time_frame.median(),\n",
    "    'variance': df_time_frame.var(),\n",
    "    'standard deviation': df_time_frame.std(),\n",
    "    '25% percentile' : df_time_frame.quantile(q=0.25),\n",
    "    '75% percentile': df_time_frame.quantile(q=0.75)}).T\n",
    "\n",
    "display(statistics)\n",
    "\n",
    "centered_df = (df_time_frame - statistics.iloc[0])\n",
    "\n",
    "standardized_df = centered_df/statistics.iloc[3]\n",
    "\n",
    "display(standardized_df)"
   ]
  },
  {
   "cell_type": "code",
   "execution_count": null,
   "metadata": {},
   "outputs": [],
   "source": [
    "#empty cell, do not delete, just edit"
   ]
  },
  {
   "cell_type": "code",
   "execution_count": null,
   "metadata": {},
   "outputs": [],
   "source": [
    "#empty cell, do not delete, just edit"
   ]
  },
  {
   "cell_type": "code",
   "execution_count": null,
   "metadata": {},
   "outputs": [],
   "source": [
    "#empty cell, do not delete, just edit"
   ]
  },
  {
   "cell_type": "markdown",
   "metadata": {},
   "source": [
    "# PCA"
   ]
  },
  {
   "cell_type": "code",
   "execution_count": 6,
   "metadata": {},
   "outputs": [
    {
     "name": "stdout",
     "output_type": "stream",
     "text": [
      "Covariance matrix is: \n",
      "\n",
      "[[ 1.         -0.18258906 -0.40534598  0.21207383  0.00694783  0.02527068]\n",
      " [-0.18258906  1.          0.17543359 -0.05200114  0.00194328 -0.10264916]\n",
      " [-0.40534598  0.17543359  1.         -0.07794268  0.11182493  0.0170906 ]\n",
      " [ 0.21207383 -0.05200114 -0.07794268  1.          0.39781266  0.35024432]\n",
      " [ 0.00694783  0.00194328  0.11182493  0.39781266  1.          0.42702172]\n",
      " [ 0.02527068 -0.10264916  0.0170906   0.35024432  0.42702172  1.        ]]\n",
      "\n",
      "\n",
      "[1.83721489 1.5302441  0.9071801  0.64092376 0.55171807 0.53271907]\n",
      "The direction described by the eigenvector [ 0.27405557 -0.18872542 -0.14437288  0.5633284   0.5203014   0.52950948] with eigenvalue 1.83721 accounts for 30.62025 % of the dataset variance.\n",
      "The direction described by the eigenvector [-0.56817184  0.35661564  0.62363209  0.04131969  0.33332625  0.21971653] with eigenvalue 1.53024 accounts for 25.50407 % of the dataset variance.\n",
      "The direction described by the eigenvector [-0.28504266 -0.87742433  0.20889762 -0.25383512 -0.03736627  0.19852082] with eigenvalue 0.90718 accounts for 15.11967 % of the dataset variance.\n",
      "The direction described by the eigenvector [-0.30737344  0.22656077 -0.5614568  -0.42671762 -0.05507608  0.59484178] with eigenvalue 0.64092 accounts for 10.68206 % of the dataset variance.\n",
      "The direction described by the eigenvector [ 0.59103975  0.07835519  0.29786209 -0.63993623  0.35937828  0.13091799] with eigenvalue 0.55172 accounts for 9.1953 % of the dataset variance.\n",
      "The direction described by the eigenvector [ 0.27752218  0.0993239   0.37768466  0.15784556 -0.69613052  0.51084007] with eigenvalue 0.53272 accounts for 8.87865 % of the dataset variance.\n"
     ]
    }
   ],
   "source": [
    "import scipy.linalg as la\n",
    "\n",
    "cov = np.cov(standardized_df.T) \n",
    "print('Covariance matrix is: \\n')\n",
    "print(cov)\n",
    "l, V = la.eig(cov)\n",
    "print('\\n')\n",
    "print(np.real_if_close(l))\n",
    "\n",
    "var = []\n",
    "for i in range(len(l)):\n",
    "    var.append(np.real_if_close(l[i]/l.sum()))\n",
    "for i in range(len(var)):\n",
    "    print('The direction described by the eigenvector', V[:,i], 'with eigenvalue', np.round(np.real_if_close(l[i]),5), 'accounts for', np.round(var[i]*100,5), '% of the dataset variance.')"
   ]
  },
  {
   "cell_type": "code",
   "execution_count": null,
   "metadata": {},
   "outputs": [],
   "source": [
    "#empty cell, do not delete, just edit"
   ]
  },
  {
   "cell_type": "code",
   "execution_count": null,
   "metadata": {},
   "outputs": [],
   "source": [
    "#empty cell, do not delete, just edit"
   ]
  },
  {
   "cell_type": "code",
   "execution_count": null,
   "metadata": {},
   "outputs": [],
   "source": [
    "#empty cell, do not delete, just edit"
   ]
  },
  {
   "cell_type": "markdown",
   "metadata": {},
   "source": [
    "## Now we rotate the data in the new base, thus taking a linear combination of physical quantities. We then drop the last two columns."
   ]
  },
  {
   "cell_type": "code",
   "execution_count": 7,
   "metadata": {},
   "outputs": [
    {
     "data": {
      "text/html": [
       "<div>\n",
       "<style scoped>\n",
       "    .dataframe tbody tr th:only-of-type {\n",
       "        vertical-align: middle;\n",
       "    }\n",
       "\n",
       "    .dataframe tbody tr th {\n",
       "        vertical-align: top;\n",
       "    }\n",
       "\n",
       "    .dataframe thead th {\n",
       "        text-align: right;\n",
       "    }\n",
       "</style>\n",
       "<table border=\"1\" class=\"dataframe\">\n",
       "  <thead>\n",
       "    <tr style=\"text-align: right;\">\n",
       "      <th></th>\n",
       "      <th>PC1</th>\n",
       "      <th>PC2</th>\n",
       "      <th>PC3</th>\n",
       "      <th>PC4</th>\n",
       "    </tr>\n",
       "  </thead>\n",
       "  <tbody>\n",
       "    <tr>\n",
       "      <th>0</th>\n",
       "      <td>0.169055</td>\n",
       "      <td>1.208085</td>\n",
       "      <td>1.065950</td>\n",
       "      <td>-0.512519</td>\n",
       "    </tr>\n",
       "    <tr>\n",
       "      <th>1</th>\n",
       "      <td>0.537223</td>\n",
       "      <td>-2.194957</td>\n",
       "      <td>1.702861</td>\n",
       "      <td>-0.209951</td>\n",
       "    </tr>\n",
       "    <tr>\n",
       "      <th>2</th>\n",
       "      <td>0.482429</td>\n",
       "      <td>0.114413</td>\n",
       "      <td>1.112805</td>\n",
       "      <td>-0.128584</td>\n",
       "    </tr>\n",
       "    <tr>\n",
       "      <th>3</th>\n",
       "      <td>1.029715</td>\n",
       "      <td>-1.162177</td>\n",
       "      <td>1.896885</td>\n",
       "      <td>-0.787033</td>\n",
       "    </tr>\n",
       "    <tr>\n",
       "      <th>4</th>\n",
       "      <td>0.835325</td>\n",
       "      <td>-1.374400</td>\n",
       "      <td>1.287462</td>\n",
       "      <td>-1.106719</td>\n",
       "    </tr>\n",
       "    <tr>\n",
       "      <th>...</th>\n",
       "      <td>...</td>\n",
       "      <td>...</td>\n",
       "      <td>...</td>\n",
       "      <td>...</td>\n",
       "    </tr>\n",
       "    <tr>\n",
       "      <th>12596</th>\n",
       "      <td>-0.736997</td>\n",
       "      <td>0.455727</td>\n",
       "      <td>-0.156505</td>\n",
       "      <td>0.300455</td>\n",
       "    </tr>\n",
       "    <tr>\n",
       "      <th>12597</th>\n",
       "      <td>-0.180785</td>\n",
       "      <td>0.815358</td>\n",
       "      <td>0.048987</td>\n",
       "      <td>0.672151</td>\n",
       "    </tr>\n",
       "    <tr>\n",
       "      <th>12598</th>\n",
       "      <td>0.468945</td>\n",
       "      <td>-0.508551</td>\n",
       "      <td>0.263527</td>\n",
       "      <td>0.257679</td>\n",
       "    </tr>\n",
       "    <tr>\n",
       "      <th>12599</th>\n",
       "      <td>-1.087031</td>\n",
       "      <td>1.292370</td>\n",
       "      <td>-0.052567</td>\n",
       "      <td>0.266607</td>\n",
       "    </tr>\n",
       "    <tr>\n",
       "      <th>12600</th>\n",
       "      <td>-1.368046</td>\n",
       "      <td>1.300540</td>\n",
       "      <td>1.156979</td>\n",
       "      <td>-0.055622</td>\n",
       "    </tr>\n",
       "  </tbody>\n",
       "</table>\n",
       "<p>12601 rows × 4 columns</p>\n",
       "</div>"
      ],
      "text/plain": [
       "            PC1       PC2       PC3       PC4\n",
       "0      0.169055  1.208085  1.065950 -0.512519\n",
       "1      0.537223 -2.194957  1.702861 -0.209951\n",
       "2      0.482429  0.114413  1.112805 -0.128584\n",
       "3      1.029715 -1.162177  1.896885 -0.787033\n",
       "4      0.835325 -1.374400  1.287462 -1.106719\n",
       "...         ...       ...       ...       ...\n",
       "12596 -0.736997  0.455727 -0.156505  0.300455\n",
       "12597 -0.180785  0.815358  0.048987  0.672151\n",
       "12598  0.468945 -0.508551  0.263527  0.257679\n",
       "12599 -1.087031  1.292370 -0.052567  0.266607\n",
       "12600 -1.368046  1.300540  1.156979 -0.055622\n",
       "\n",
       "[12601 rows x 4 columns]"
      ]
     },
     "metadata": {},
     "output_type": "display_data"
    }
   ],
   "source": [
    "rotated_data = np.dot(V.T, standardized_df.T) #bring the dataset in the eigenvector basis\n",
    "dataset_rotated = pd.DataFrame(rotated_data.T, columns = ['PC1', 'PC2', 'PC3', 'PC4', 'PC5', 'PC6'])\n",
    "dataset_rotated = dataset_rotated.drop(['PC5','PC6'], axis = 1)\n",
    "display(dataset_rotated)"
   ]
  },
  {
   "cell_type": "code",
   "execution_count": null,
   "metadata": {},
   "outputs": [],
   "source": [
    "#empty cell, do not delete, just edit"
   ]
  },
  {
   "cell_type": "code",
   "execution_count": null,
   "metadata": {},
   "outputs": [],
   "source": [
    "#empty cell, do not delete, just edit"
   ]
  },
  {
   "cell_type": "code",
   "execution_count": null,
   "metadata": {},
   "outputs": [],
   "source": [
    "#empty cell, do not delete, just edit"
   ]
  },
  {
   "cell_type": "markdown",
   "metadata": {},
   "source": [
    "## By using the first 4 principal componenets we retain around 80% of the variability (please check PCA is correct) --> We now apply FFT and look for the peaks of each principal component."
   ]
  },
  {
   "cell_type": "code",
   "execution_count": 8,
   "metadata": {},
   "outputs": [
    {
     "data": {
      "text/plain": [
       "Text(0, 0.5, 'Amplitude')"
      ]
     },
     "execution_count": 8,
     "metadata": {},
     "output_type": "execute_result"
    },
    {
     "data": {
      "image/png": "[encoded data removed]",
      "text/plain": [
       "<Figure size 720x576 with 1 Axes>"
      ]
     },
     "metadata": {
      "needs_background": "light"
     },
     "output_type": "display_data"
    }
   ],
   "source": [
    "from scipy import signal\n",
    "\n",
    "\n",
    "min_f = 30/60  #minimum of athletes is 30 beats per minute\n",
    "max_f = 120/60 #maximum (sustainable) is around 120 beats per minimum\n",
    "\n",
    "sample_freq = 200\n",
    "\n",
    "# FFT\n",
    "PC1_FFT = np.abs(np.fft.rfft(dataset_rotated['PC1']))\n",
    "PC2_FFT = np.abs(np.fft.rfft(dataset_rotated['PC2']))\n",
    "PC3_FFT = np.abs(np.fft.rfft(dataset_rotated['PC3']))\n",
    "PC4_FFT = np.abs(np.fft.rfft(dataset_rotated['PC4']))\n",
    "\n",
    "freq_FFT = np.fft.rfftfreq(d=1/sample_freq, n=len(dataset_rotated['PC1']))\n",
    "\n",
    "X = []\n",
    "YPC1 = []\n",
    "YPC2 = []\n",
    "YPC3 = []\n",
    "YPC4 = []\n",
    "\n",
    "for i in range(len(PC1_FFT)):\n",
    "    if freq_FFT[i]<=max_f and freq_FFT[i]>=min_f:\n",
    "        X.append(freq_FFT[i])\n",
    "        YPC1.append(PC1_FFT[i])\n",
    "        YPC2.append(PC2_FFT[i])\n",
    "        YPC3.append(PC3_FFT[i])\n",
    "        YPC4.append(PC4_FFT[i])\n",
    "\n",
    "fig, ax1 = plt.subplots(figsize=(10, 8))\n",
    "ax1.plot(freq_FFT, PC1_FFT, label='PC1')\n",
    "ax1.plot(freq_FFT, PC2_FFT, label='PC2')\n",
    "ax1.plot(freq_FFT, PC3_FFT, label='PC3')\n",
    "ax1.plot(freq_FFT, PC4_FFT, label='PC4')\n",
    "ax1.set_xlim(0,5)\n",
    "ax1.set_ylim(0,2500)\n",
    "ax1.legend(loc='best')\n",
    "ax1.set_xlabel('Frequencies [Hz]')\n",
    "ax1.set_ylabel('Amplitude')"
   ]
  },
  {
   "cell_type": "code",
   "execution_count": null,
   "metadata": {},
   "outputs": [],
   "source": [
    "#empty cell, do not delete, just edit"
   ]
  },
  {
   "cell_type": "code",
   "execution_count": null,
   "metadata": {},
   "outputs": [],
   "source": [
    "#empty cell, do not delete, just edit"
   ]
  },
  {
   "cell_type": "code",
   "execution_count": null,
   "metadata": {},
   "outputs": [],
   "source": [
    "#empty cell, do not delete, just edit"
   ]
  },
  {
   "cell_type": "markdown",
   "metadata": {},
   "source": [
    "# FILTER"
   ]
  },
  {
   "cell_type": "markdown",
   "metadata": {},
   "source": [
    "## (a) Directly from Fourier Analysis, antitrasform data looking for the most interesting frequency band."
   ]
  },
  {
   "cell_type": "code",
   "execution_count": null,
   "metadata": {},
   "outputs": [],
   "source": [
    "#empty cell, do not delete, just edit"
   ]
  },
  {
   "cell_type": "code",
   "execution_count": null,
   "metadata": {},
   "outputs": [],
   "source": [
    "#empty cell, do not delete, just edit"
   ]
  },
  {
   "cell_type": "code",
   "execution_count": null,
   "metadata": {},
   "outputs": [],
   "source": [
    "#empty cell, do not delete, just edit"
   ]
  },
  {
   "cell_type": "code",
   "execution_count": null,
   "metadata": {},
   "outputs": [],
   "source": [
    "#empty cell, do not delete, just edit"
   ]
  },
  {
   "cell_type": "code",
   "execution_count": null,
   "metadata": {},
   "outputs": [],
   "source": [
    "#empty cell, do not delete, just edit"
   ]
  },
  {
   "cell_type": "code",
   "execution_count": null,
   "metadata": {},
   "outputs": [],
   "source": [
    "#empty cell, do not delete, just edit"
   ]
  },
  {
   "cell_type": "markdown",
   "metadata": {},
   "source": [
    "## (b) Choose the appropriate Lowpass/Bandpass/Highpass filter."
   ]
  },
  {
   "cell_type": "code",
   "execution_count": null,
   "metadata": {},
   "outputs": [],
   "source": [
    "#empty cell, do not delete, just edit"
   ]
  },
  {
   "cell_type": "code",
   "execution_count": null,
   "metadata": {},
   "outputs": [],
   "source": [
    "#empty cell, do not delete, just edit"
   ]
  },
  {
   "cell_type": "code",
   "execution_count": null,
   "metadata": {},
   "outputs": [],
   "source": [
    "#empty cell, do not delete, just edit"
   ]
  },
  {
   "cell_type": "code",
   "execution_count": null,
   "metadata": {},
   "outputs": [],
   "source": [
    "#empty cell, do not delete, just edit"
   ]
  },
  {
   "cell_type": "code",
   "execution_count": null,
   "metadata": {},
   "outputs": [],
   "source": [
    "#empty cell, do not delete, just edit"
   ]
  },
  {
   "cell_type": "code",
   "execution_count": null,
   "metadata": {},
   "outputs": [],
   "source": [
    "#empty cell, do not delete, just edit"
   ]
  },
  {
   "cell_type": "markdown",
   "metadata": {},
   "source": [
    "## (c) Wavelet trasform (a powerfull instrument that make a time and frequency analysis of signal)."
   ]
  },
  {
   "cell_type": "code",
   "execution_count": null,
   "metadata": {},
   "outputs": [],
   "source": [
    "#empty cell, do not delete, just edit"
   ]
  },
  {
   "cell_type": "code",
   "execution_count": null,
   "metadata": {},
   "outputs": [],
   "source": [
    "#empty cell, do not delete, just edit"
   ]
  },
  {
   "cell_type": "code",
   "execution_count": null,
   "metadata": {},
   "outputs": [],
   "source": [
    "#empty cell, do not delete, just edit"
   ]
  },
  {
   "cell_type": "code",
   "execution_count": null,
   "metadata": {},
   "outputs": [],
   "source": [
    "#empty cell, do not delete, just edit"
   ]
  },
  {
   "cell_type": "code",
   "execution_count": null,
   "metadata": {},
   "outputs": [],
   "source": [
    "#empty cell, do not delete, just edit"
   ]
  },
  {
   "cell_type": "code",
   "execution_count": null,
   "metadata": {},
   "outputs": [],
   "source": [
    "#empty cell, do not delete, just edit"
   ]
  },
  {
   "cell_type": "markdown",
   "metadata": {},
   "source": [
    "## (d) Find another method by yourselves."
   ]
  },
  {
   "cell_type": "code",
   "execution_count": null,
   "metadata": {},
   "outputs": [],
   "source": [
    "#empty cell, do not delete, just edit"
   ]
  },
  {
   "cell_type": "code",
   "execution_count": null,
   "metadata": {},
   "outputs": [],
   "source": [
    "#empty cell, do not delete, just edit"
   ]
  },
  {
   "cell_type": "code",
   "execution_count": null,
   "metadata": {},
   "outputs": [],
   "source": [
    "#empty cell, do not delete, just edit"
   ]
  },
  {
   "cell_type": "code",
   "execution_count": null,
   "metadata": {},
   "outputs": [],
   "source": [
    "#empty cell, do not delete, just edit"
   ]
  },
  {
   "cell_type": "code",
   "execution_count": null,
   "metadata": {},
   "outputs": [],
   "source": [
    "#empty cell, do not delete, just edit"
   ]
  },
  {
   "cell_type": "code",
   "execution_count": null,
   "metadata": {},
   "outputs": [],
   "source": [
    "#empty cell, do not delete, just edit"
   ]
  },
  {
   "cell_type": "markdown",
   "metadata": {},
   "source": [
    "## Motivate your choice."
   ]
  },
  {
   "cell_type": "code",
   "execution_count": null,
   "metadata": {},
   "outputs": [],
   "source": [
    "#empty cell, do not delete, just edit"
   ]
  },
  {
   "cell_type": "code",
   "execution_count": null,
   "metadata": {},
   "outputs": [],
   "source": [
    "#empty cell, do not delete, just edit"
   ]
  },
  {
   "cell_type": "code",
   "execution_count": null,
   "metadata": {},
   "outputs": [],
   "source": [
    "#empty cell, do not delete, just edit"
   ]
  },
  {
   "cell_type": "code",
   "execution_count": null,
   "metadata": {},
   "outputs": [],
   "source": [
    "#empty cell, do not delete, just edit"
   ]
  },
  {
   "cell_type": "code",
   "execution_count": null,
   "metadata": {},
   "outputs": [],
   "source": [
    "#empty cell, do not delete, just edit"
   ]
  },
  {
   "cell_type": "code",
   "execution_count": null,
   "metadata": {},
   "outputs": [],
   "source": [
    "#empty cell, do not delete, just edit"
   ]
  },
  {
   "cell_type": "markdown",
   "metadata": {},
   "source": [
    "# METRICS"
   ]
  },
  {
   "cell_type": "markdown",
   "metadata": {},
   "source": [
    "## 4.1. Heart Beat Per Minute(BPM): extrapolate BPM, make an histogram of the result. Does it follow a partiular distribution? "
   ]
  },
  {
   "cell_type": "code",
   "execution_count": null,
   "metadata": {},
   "outputs": [],
   "source": [
    "#empty cell, do not delete, just edit"
   ]
  },
  {
   "cell_type": "code",
   "execution_count": null,
   "metadata": {},
   "outputs": [],
   "source": [
    "#empty cell, do not delete, just edit"
   ]
  },
  {
   "cell_type": "code",
   "execution_count": null,
   "metadata": {},
   "outputs": [],
   "source": [
    "#empty cell, do not delete, just edit"
   ]
  },
  {
   "cell_type": "code",
   "execution_count": null,
   "metadata": {},
   "outputs": [],
   "source": [
    "#empty cell, do not delete, just edit"
   ]
  },
  {
   "cell_type": "code",
   "execution_count": null,
   "metadata": {},
   "outputs": [],
   "source": [
    "#empty cell, do not delete, just edit"
   ]
  },
  {
   "cell_type": "code",
   "execution_count": null,
   "metadata": {},
   "outputs": [],
   "source": [
    "#empty cell, do not delete, just edit"
   ]
  },
  {
   "cell_type": "markdown",
   "metadata": {},
   "source": [
    "## 4.2. Heart Rate Variability(HRV): extrapolate HRV, explain why this parameter is important, and plot the results."
   ]
  },
  {
   "cell_type": "code",
   "execution_count": null,
   "metadata": {},
   "outputs": [],
   "source": [
    "#empty cell, do not delete, just edit"
   ]
  },
  {
   "cell_type": "code",
   "execution_count": null,
   "metadata": {},
   "outputs": [],
   "source": [
    "#empty cell, do not delete, just edit"
   ]
  },
  {
   "cell_type": "code",
   "execution_count": null,
   "metadata": {},
   "outputs": [],
   "source": [
    "#empty cell, do not delete, just edit"
   ]
  },
  {
   "cell_type": "code",
   "execution_count": null,
   "metadata": {},
   "outputs": [],
   "source": [
    "#empty cell, do not delete, just edit"
   ]
  },
  {
   "cell_type": "code",
   "execution_count": null,
   "metadata": {},
   "outputs": [],
   "source": [
    "#empty cell, do not delete, just edit"
   ]
  },
  {
   "cell_type": "code",
   "execution_count": null,
   "metadata": {},
   "outputs": [],
   "source": [
    "#empty cell, do not delete, just edit"
   ]
  },
  {
   "cell_type": "markdown",
   "metadata": {},
   "source": [
    "# (OPTIONAL) Algorithm: Elaborate a simple algorithm to extrapolate heart beat even when filter failed (e.g. look at particular threshold...)."
   ]
  },
  {
   "cell_type": "code",
   "execution_count": null,
   "metadata": {},
   "outputs": [],
   "source": [
    "#empty cell, do not delete, just edit"
   ]
  },
  {
   "cell_type": "code",
   "execution_count": null,
   "metadata": {},
   "outputs": [],
   "source": [
    "#empty cell, do not delete, just edit"
   ]
  },
  {
   "cell_type": "code",
   "execution_count": null,
   "metadata": {},
   "outputs": [],
   "source": [
    "#empty cell, do not delete, just edit"
   ]
  },
  {
   "cell_type": "code",
   "execution_count": null,
   "metadata": {},
   "outputs": [],
   "source": [
    "#empty cell, do not delete, just edit"
   ]
  },
  {
   "cell_type": "code",
   "execution_count": null,
   "metadata": {},
   "outputs": [],
   "source": [
    "#empty cell, do not delete, just edit"
   ]
  },
  {
   "cell_type": "code",
   "execution_count": null,
   "metadata": {},
   "outputs": [],
   "source": [
    "#empty cell, do not delete, just edit"
   ]
  },
  {
   "cell_type": "markdown",
   "metadata": {},
   "source": [
    "# CONCLUSIONS"
   ]
  },
  {
   "cell_type": "code",
   "execution_count": null,
   "metadata": {},
   "outputs": [],
   "source": [
    "#empty cell, do not delete, just edit"
   ]
  },
  {
   "cell_type": "code",
   "execution_count": null,
   "metadata": {},
   "outputs": [],
   "source": [
    "#empty cell, do not delete, just edit"
   ]
  },
  {
   "cell_type": "code",
   "execution_count": null,
   "metadata": {},
   "outputs": [],
   "source": [
    "#empty cell, do not delete, just edit"
   ]
  },
  {
   "cell_type": "code",
   "execution_count": null,
   "metadata": {},
   "outputs": [],
   "source": [
    "#empty cell, do not delete, just edit"
   ]
  },
  {
   "cell_type": "code",
   "execution_count": null,
   "metadata": {},
   "outputs": [],
   "source": [
    "#empty cell, do not delete, just edit"
   ]
  },
  {
   "cell_type": "code",
   "execution_count": null,
   "metadata": {},
   "outputs": [],
   "source": [
    "#empty cell, do not delete, just edit"
   ]
  }
 ],
 "metadata": {
  "kernelspec": {
   "display_name": "Python 3",
   "language": "python",
   "name": "python3"
  },
  "language_info": {
   "codemirror_mode": {
    "name": "ipython",
    "version": 3
   },
   "file_extension": ".py",
   "mimetype": "text/x-python",
   "name": "python",
   "nbconvert_exporter": "python",
   "pygments_lexer": "ipython3",
   "version": "3.8.10"
  }
 },
 "nbformat": 4,
 "nbformat_minor": 2
}