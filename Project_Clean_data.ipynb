{
 "cells": [
  {
   "cell_type": "markdown",
   "metadata": {},
   "source": [
    "# HEART RATE ESTIMATION\n",
    "\n",
    "Seismocardiography([SCG](https://www.ncbi.nlm.nih.gov/pubmed/24111357)) is a very promising technique to measure Heart Rate (HR) and Respiratory Rate (RR) with the detector positioned above sternum. It is generally based on accelerometer and gyroscope readings or a combination of them. \n",
    "\n",
    "Ballistocardiography([BCG](https://en.wikipedia.org/wiki/Ballistocardiography)) is an another technique to estimate heart and respiratory rate with combination of both accelerometer and gyroscope. It is an indirect evaluation of HR and RR since the contact between the device and the body of the subject is not required (e.g., accelerometer platform mounted under the slats of the bed).   \n",
    "  \n",
    "MuSe(Multi-Sensor miniaturized, low-power, wireless [IMU](https://en.wikipedia.org/wiki/Inertial_measurement_unit)) is an Inertial Measurement Unit (IMU) provide by [221e](https://www.221e.com). In the context of this project, It allows to record the inertial data necessary for the estimation of SCG and BCG.\n",
    "\n",
    "The goal of this assignment is to estimate the heart rate of an healthy subject, given linear acceleration and angular velocity measurements recorded by using the aforementioned MuSe platform. \n",
    "The study must be performed on two datasets: the first is the compulsory one (**center_sternum.txt**) while the second is left at the discretion of the group, among those made available for the assignment.\n",
    "\n",
    "**N.B: Remember that normal beat is around [40-100] bpm.**\n",
    "\n",
    "\n",
    "## Dataset\n",
    "\n",
    "The data is provided in .txt file. During this study two healthy subjects were involved with their informed consent. The first dataset was recorded on one subject, while all the other datasets were recorded on the second subject. \n",
    "\n",
    "This is the first mandatory file:\n",
    "\n",
    "* **center_sternum.txt**: MuSe placed on the center of the sternum. The subject was lying supine on his left and right side, respectively. \n",
    "\n",
    "\n",
    "Choose one of the following files in order to complete the task.\n",
    "\n",
    "1. **1_Stave_supine_static.txt**: Sensor placed on a bed stave, under the mattress at the level of the chest. The subject was lying supine on his left and right side. \n",
    "* **2_Mattress_supine.txt**: Sensor placed on the mattress, near one corner but not under the pillow. The subject laid in the same position as above. \n",
    "* **3_Subject_sitting_chair.txt**: Sensor placed on the desk: the subject, sitting on a chair, leaned forearms and hands on the desk. \n",
    "* **4_Chest_sweater.txt**: Sensor placed on the subject chest directly on a sweater. \n",
    "* **5_Under_chair.txt**: Subject sitting on a chair, sensor placed under the seat of the chair. \n",
    "\n",
    "All .txt files give 16 columns index, in particular: \n",
    "\n",
    "* Log Freq stands for the acquisition  in Hz (i.e., sampling interval is constant).\n",
    "* AccX, AccY, AccZ are the measured magnitude of linear acceleration along each axis.\n",
    "* GyroX, GyroY, GyroZ are the measured magnitude of angular velocity along each axis.\n",
    "* MagnX, MagnY, MagnZ are the measured magnitude of magnetic field along each axis.\n",
    "* qw, qi, qj, qk are the quaternion components, representing the spatial orientation of the Muse system.\n",
    "\n",
    "Each dataset includes, in addition to the data, one file containing the adopted configuration of the MuSe(**README1.txt** for the first measurement, and in **README_5.txt** for the other measurement).\n",
    " \n",
    "\n",
    "\n",
    "## Assignment\n",
    "\n",
    "\n",
    "\n",
    "1. Data preparation:\n",
    "\n",
    "    1.1. Load the txt file and select only the columns you are interesting in, in order to do a complete data analysis (e.g. Log Freq, AccX, ... )\n",
    "    \n",
    "    1.2. Plot selected data in function of time and choose a properly time window over which to perform the analysis. Pay attention on time rappresentation and the measurament unit.\n",
    "    \n",
    "    1.3. In order to make an appropiate work, decide if take care about some particular axis or some combination of them as well as derived features for the next step of the task. Motivate your choice.  \n",
    "\n",
    "\n",
    "    \n",
    "2. Time and frequency analysis:\n",
    "\n",
    "    2.1. Statistical analysis: provide a statistical description of the chosen dataset. Statistical descriptors includes for example mean, median, variance, standard deviation, 25th and 75th percentiles, and correlation coefficients. Investigate what could be the most interesting descriptors for this type of data, motivating the choices.\n",
    "    \n",
    "    2.2. Fourier Analysis: Perform a frequency analysis of the data. Look at the spectrum and explain what you see. Use this step in order to properly design the filters in the following step. \n",
    "\n",
    "\n",
    "\n",
    "3. Filter:\n",
    "    \n",
    "    Implement your own filter, trying to extrapolate heart rate signal. Hint:\n",
    "    \n",
    "    (a) Directly from Fourier Analysis, antitrasform data looking for the most interesting frequency band.\n",
    "    \n",
    "    (b) Choose the appropriate Lowpass/Bandpass/Highpass filter.\n",
    "    \n",
    "    (c) Wavelet trasform (a powerfull instrument that make a time and frequency analysis of signal).\n",
    "    \n",
    "    (d) Find another method by yourselves.\n",
    "    \n",
    "    Motivate your choice.\n",
    "    \n",
    "    \n",
    "4. Metrics:\n",
    "\n",
    "    4.1. Heart Beat Per Minute(BPM): extrapolate BPM, make an histogram of the result. Does it follow a partiular distribution? \n",
    "    \n",
    "    4.2. Heart Rate Variability(HRV): extrapolate HRV, explain why this parameter is important, and plot the results.\n",
    "\n",
    "\n",
    "\n",
    "5. (OPTIONAL) Algorithm: Elaborate a simple algorithm to extrapolate heart beat even when filter failed (e.g. look at particular threshold...).  \n",
    "\n",
    "\n",
    "\n",
    "6. Conclusion: \n",
    "\n",
    "    Summarise the obtained results, in particular making a comparison between the two files analysed. Highlight limitation and critical issues encountered during the work, motivating the most relevant contribution given by your solution.\n",
    "\n",
    "\n",
    "\n",
    "\n",
    "**N.B: Indicate the contribution, to achieving the result, of each member of the group.**\n"
   ]
  },
  {
   "cell_type": "markdown",
   "metadata": {},
   "source": [
    "## Load the required packages"
   ]
  },
  {
   "cell_type": "code",
   "execution_count": 1,
   "metadata": {},
   "outputs": [],
   "source": [
    "import pandas as pd\n",
    "import numpy as np\n",
    "from scipy.optimize import curve_fit\n",
    "import matplotlib.pyplot as plt\n",
    "from IPython.display import display"
   ]
  },
  {
   "cell_type": "code",
   "execution_count": 2,
   "metadata": {},
   "outputs": [],
   "source": [
    "#empty cell, do not delete, just edit"
   ]
  },
  {
   "cell_type": "code",
   "execution_count": 3,
   "metadata": {},
   "outputs": [],
   "source": [
    "#empty cell, do not delete, just edit"
   ]
  },
  {
   "cell_type": "code",
   "execution_count": 4,
   "metadata": {},
   "outputs": [],
   "source": [
    "#empty cell, do not delete, just edit"
   ]
  },
  {
   "cell_type": "markdown",
   "metadata": {},
   "source": [
    "## Read the data and correct it with respect to the calibration\n",
    "\n",
    "In these cells I read the data w.r.t. the calibration and i've added a time column (by taking steps of 1/samplingfrequency)"
   ]
  },
  {
   "cell_type": "code",
   "execution_count": 5,
   "metadata": {
    "scrolled": false
   },
   "outputs": [
    {
     "name": "stdout",
     "output_type": "stream",
     "text": [
      "The variables in our datafile are: Index(['Log Mode', 'Log Freq', 'Timestamp', 'AccX', 'AccY', 'AccZ', 'GyroX',\n",
      "       'GyroY', 'GyroZ', 'MagnX', 'MagnY', 'MagnZ', 'qw', 'qi', 'qj', 'qk'],\n",
      "      dtype='object')\n",
      "The size of our datafile is (16506, 16)\n"
     ]
    }
   ],
   "source": [
    "# Load the datafile\n",
    "datafile = pd.read_csv('center_sternum.txt',sep='\\t')\n",
    "\n",
    "# Look what our data is like in order to select useful columns\n",
    "print(\"The variables in our datafile are:\", datafile.columns)\n",
    "print(\"The size of our datafile is\", datafile.shape)"
   ]
  },
  {
   "cell_type": "code",
   "execution_count": 6,
   "metadata": {},
   "outputs": [
    {
     "data": {
      "text/html": [
       "<div>\n",
       "<style scoped>\n",
       "    .dataframe tbody tr th:only-of-type {\n",
       "        vertical-align: middle;\n",
       "    }\n",
       "\n",
       "    .dataframe tbody tr th {\n",
       "        vertical-align: top;\n",
       "    }\n",
       "\n",
       "    .dataframe thead th {\n",
       "        text-align: right;\n",
       "    }\n",
       "</style>\n",
       "<table border=\"1\" class=\"dataframe\">\n",
       "  <thead>\n",
       "    <tr style=\"text-align: right;\">\n",
       "      <th></th>\n",
       "      <th>Log Mode</th>\n",
       "      <th>Log Freq</th>\n",
       "      <th>Timestamp</th>\n",
       "      <th>AccX</th>\n",
       "      <th>AccY</th>\n",
       "      <th>AccZ</th>\n",
       "      <th>GyroX</th>\n",
       "      <th>GyroY</th>\n",
       "      <th>GyroZ</th>\n",
       "      <th>MagnX</th>\n",
       "      <th>MagnY</th>\n",
       "      <th>MagnZ</th>\n",
       "      <th>Time</th>\n",
       "    </tr>\n",
       "  </thead>\n",
       "  <tbody>\n",
       "    <tr>\n",
       "      <th>0</th>\n",
       "      <td>5</td>\n",
       "      <td>200</td>\n",
       "      <td>1576222772</td>\n",
       "      <td>943.007996</td>\n",
       "      <td>410.325442</td>\n",
       "      <td>130.264244</td>\n",
       "      <td>-9.066652</td>\n",
       "      <td>-11.280817</td>\n",
       "      <td>0.686183</td>\n",
       "      <td>-502.261441</td>\n",
       "      <td>-683.404962</td>\n",
       "      <td>-141.669690</td>\n",
       "      <td>0.000</td>\n",
       "    </tr>\n",
       "    <tr>\n",
       "      <th>1</th>\n",
       "      <td>5</td>\n",
       "      <td>200</td>\n",
       "      <td>1576222772</td>\n",
       "      <td>965.209969</td>\n",
       "      <td>363.380701</td>\n",
       "      <td>148.635086</td>\n",
       "      <td>3.940982</td>\n",
       "      <td>-9.326617</td>\n",
       "      <td>-8.687863</td>\n",
       "      <td>-502.257960</td>\n",
       "      <td>-683.400705</td>\n",
       "      <td>-140.794890</td>\n",
       "      <td>0.005</td>\n",
       "    </tr>\n",
       "    <tr>\n",
       "      <th>2</th>\n",
       "      <td>5</td>\n",
       "      <td>200</td>\n",
       "      <td>1576222772</td>\n",
       "      <td>985.689106</td>\n",
       "      <td>356.065246</td>\n",
       "      <td>138.465450</td>\n",
       "      <td>9.467696</td>\n",
       "      <td>-1.998369</td>\n",
       "      <td>-8.168779</td>\n",
       "      <td>-502.257960</td>\n",
       "      <td>-683.400705</td>\n",
       "      <td>-140.794890</td>\n",
       "      <td>0.010</td>\n",
       "    </tr>\n",
       "    <tr>\n",
       "      <th>3</th>\n",
       "      <td>5</td>\n",
       "      <td>200</td>\n",
       "      <td>1576222772</td>\n",
       "      <td>950.852176</td>\n",
       "      <td>393.026437</td>\n",
       "      <td>148.047237</td>\n",
       "      <td>15.635636</td>\n",
       "      <td>5.482547</td>\n",
       "      <td>-6.703130</td>\n",
       "      <td>-502.207976</td>\n",
       "      <td>-685.226199</td>\n",
       "      <td>-139.928605</td>\n",
       "      <td>0.015</td>\n",
       "    </tr>\n",
       "    <tr>\n",
       "      <th>4</th>\n",
       "      <td>5</td>\n",
       "      <td>200</td>\n",
       "      <td>1576222772</td>\n",
       "      <td>968.040164</td>\n",
       "      <td>402.461108</td>\n",
       "      <td>159.595720</td>\n",
       "      <td>22.979146</td>\n",
       "      <td>8.368043</td>\n",
       "      <td>3.296870</td>\n",
       "      <td>-502.207976</td>\n",
       "      <td>-685.226199</td>\n",
       "      <td>-139.928605</td>\n",
       "      <td>0.020</td>\n",
       "    </tr>\n",
       "    <tr>\n",
       "      <th>...</th>\n",
       "      <td>...</td>\n",
       "      <td>...</td>\n",
       "      <td>...</td>\n",
       "      <td>...</td>\n",
       "      <td>...</td>\n",
       "      <td>...</td>\n",
       "      <td>...</td>\n",
       "      <td>...</td>\n",
       "      <td>...</td>\n",
       "      <td>...</td>\n",
       "      <td>...</td>\n",
       "      <td>...</td>\n",
       "      <td>...</td>\n",
       "    </tr>\n",
       "    <tr>\n",
       "      <th>16501</th>\n",
       "      <td>5</td>\n",
       "      <td>200</td>\n",
       "      <td>1576222847</td>\n",
       "      <td>954.849739</td>\n",
       "      <td>269.000099</td>\n",
       "      <td>5.047576</td>\n",
       "      <td>-0.578102</td>\n",
       "      <td>5.268807</td>\n",
       "      <td>-1.390153</td>\n",
       "      <td>-539.805161</td>\n",
       "      <td>-644.743591</td>\n",
       "      <td>-96.144764</td>\n",
       "      <td>82.505</td>\n",
       "    </tr>\n",
       "    <tr>\n",
       "      <th>16502</th>\n",
       "      <td>5</td>\n",
       "      <td>200</td>\n",
       "      <td>1576222847</td>\n",
       "      <td>951.006879</td>\n",
       "      <td>266.016847</td>\n",
       "      <td>9.709647</td>\n",
       "      <td>-0.761308</td>\n",
       "      <td>5.452013</td>\n",
       "      <td>-1.420687</td>\n",
       "      <td>-539.778428</td>\n",
       "      <td>-645.654210</td>\n",
       "      <td>-95.274222</td>\n",
       "      <td>82.510</td>\n",
       "    </tr>\n",
       "    <tr>\n",
       "      <th>16503</th>\n",
       "      <td>5</td>\n",
       "      <td>200</td>\n",
       "      <td>1576222847</td>\n",
       "      <td>963.711402</td>\n",
       "      <td>268.397270</td>\n",
       "      <td>-4.573267</td>\n",
       "      <td>-1.127720</td>\n",
       "      <td>6.337509</td>\n",
       "      <td>-1.619160</td>\n",
       "      <td>-539.778428</td>\n",
       "      <td>-645.654210</td>\n",
       "      <td>-95.274222</td>\n",
       "      <td>82.515</td>\n",
       "    </tr>\n",
       "    <tr>\n",
       "      <th>16504</th>\n",
       "      <td>5</td>\n",
       "      <td>200</td>\n",
       "      <td>1576222847</td>\n",
       "      <td>961.972293</td>\n",
       "      <td>278.538659</td>\n",
       "      <td>3.067677</td>\n",
       "      <td>-1.539934</td>\n",
       "      <td>6.627585</td>\n",
       "      <td>-2.306183</td>\n",
       "      <td>-540.740736</td>\n",
       "      <td>-643.796949</td>\n",
       "      <td>-94.394388</td>\n",
       "      <td>82.520</td>\n",
       "    </tr>\n",
       "    <tr>\n",
       "      <th>16505</th>\n",
       "      <td>5</td>\n",
       "      <td>200</td>\n",
       "      <td>1576222847</td>\n",
       "      <td>956.299177</td>\n",
       "      <td>276.223143</td>\n",
       "      <td>3.320295</td>\n",
       "      <td>-1.952148</td>\n",
       "      <td>7.024532</td>\n",
       "      <td>-2.061908</td>\n",
       "      <td>-540.740736</td>\n",
       "      <td>-643.796949</td>\n",
       "      <td>-94.394388</td>\n",
       "      <td>82.525</td>\n",
       "    </tr>\n",
       "  </tbody>\n",
       "</table>\n",
       "<p>16506 rows × 13 columns</p>\n",
       "</div>"
      ],
      "text/plain": [
       "       Log Mode  Log Freq   Timestamp        AccX        AccY        AccZ  \\\n",
       "0             5       200  1576222772  943.007996  410.325442  130.264244   \n",
       "1             5       200  1576222772  965.209969  363.380701  148.635086   \n",
       "2             5       200  1576222772  985.689106  356.065246  138.465450   \n",
       "3             5       200  1576222772  950.852176  393.026437  148.047237   \n",
       "4             5       200  1576222772  968.040164  402.461108  159.595720   \n",
       "...         ...       ...         ...         ...         ...         ...   \n",
       "16501         5       200  1576222847  954.849739  269.000099    5.047576   \n",
       "16502         5       200  1576222847  951.006879  266.016847    9.709647   \n",
       "16503         5       200  1576222847  963.711402  268.397270   -4.573267   \n",
       "16504         5       200  1576222847  961.972293  278.538659    3.067677   \n",
       "16505         5       200  1576222847  956.299177  276.223143    3.320295   \n",
       "\n",
       "           GyroX      GyroY     GyroZ       MagnX       MagnY       MagnZ  \\\n",
       "0      -9.066652 -11.280817  0.686183 -502.261441 -683.404962 -141.669690   \n",
       "1       3.940982  -9.326617 -8.687863 -502.257960 -683.400705 -140.794890   \n",
       "2       9.467696  -1.998369 -8.168779 -502.257960 -683.400705 -140.794890   \n",
       "3      15.635636   5.482547 -6.703130 -502.207976 -685.226199 -139.928605   \n",
       "4      22.979146   8.368043  3.296870 -502.207976 -685.226199 -139.928605   \n",
       "...          ...        ...       ...         ...         ...         ...   \n",
       "16501  -0.578102   5.268807 -1.390153 -539.805161 -644.743591  -96.144764   \n",
       "16502  -0.761308   5.452013 -1.420687 -539.778428 -645.654210  -95.274222   \n",
       "16503  -1.127720   6.337509 -1.619160 -539.778428 -645.654210  -95.274222   \n",
       "16504  -1.539934   6.627585 -2.306183 -540.740736 -643.796949  -94.394388   \n",
       "16505  -1.952148   7.024532 -2.061908 -540.740736 -643.796949  -94.394388   \n",
       "\n",
       "         Time  \n",
       "0       0.000  \n",
       "1       0.005  \n",
       "2       0.010  \n",
       "3       0.015  \n",
       "4       0.020  \n",
       "...       ...  \n",
       "16501  82.505  \n",
       "16502  82.510  \n",
       "16503  82.515  \n",
       "16504  82.520  \n",
       "16505  82.525  \n",
       "\n",
       "[16506 rows x 13 columns]"
      ]
     },
     "metadata": {},
     "output_type": "display_data"
    }
   ],
   "source": [
    "# Drop not needed columns\n",
    "df = datafile.drop(['qw', 'qi', 'qj', 'qk'], axis = 1)\n",
    "\n",
    "# This data isn't correct, needs to be calibrated\n",
    "\n",
    "gyro_offset = np.array([-2.242224,2.963463,-0.718397])\n",
    "acc_calibration = np.array([[1.000966,-0.002326418,-0.0006995499],\n",
    "                    [-0.002326379,0.9787045,-0.001540918],\n",
    "                    [-0.0006995811,-0.001540928,1.00403]])\n",
    "acc_offset = np.array([-3.929942,-13.74679,60.67546])\n",
    "magn_calibration = np.array([[0.9192851,-0.02325168,0.003480837],\n",
    "                   [-0.02325175,0.914876,0.004257396],\n",
    "                   [0.003481006,0.004257583,0.8748001]])\n",
    "magn_offset = np.array([-95.67974,-244.9142,17.71132])\n",
    "\n",
    "df[['GyroX','GyroY','GyroZ']] = df[['GyroX','GyroY','GyroZ']] + gyro_offset.T\n",
    "df[['AccX','AccY','AccZ']] = np.dot(df[['AccX','AccY','AccZ']],acc_calibration.T) + acc_offset.T\n",
    "df[['MagnX','MagnY','MagnZ']] = np.dot(df[['MagnX','MagnY','MagnZ']],magn_calibration.T) + magn_offset.T\n",
    "\n",
    "#Add time column by taking time steps of 1/logFreq\n",
    "df['Time'] = np.arange(0, len(df['Log Freq']))/df['Log Freq'][0]\n",
    "display(df)"
   ]
  },
  {
   "cell_type": "code",
   "execution_count": 7,
   "metadata": {},
   "outputs": [],
   "source": [
    "#empty cell, do not delete, just edit"
   ]
  },
  {
   "cell_type": "code",
   "execution_count": 8,
   "metadata": {},
   "outputs": [],
   "source": [
    "#empty cell, do not delete, just edit"
   ]
  },
  {
   "cell_type": "markdown",
   "metadata": {},
   "source": [
    "## Plot the data and choose time frame"
   ]
  },
  {
   "cell_type": "code",
   "execution_count": 9,
   "metadata": {},
   "outputs": [
    {
     "data": {
      "image/png": "[encoded data removed]",
      "text/plain": [
       "<Figure size 1224x720 with 3 Axes>"
      ]
     },
     "metadata": {
      "needs_background": "light"
     },
     "output_type": "display_data"
    }
   ],
   "source": [
    "(fig, (ax1,ax2,ax3)) = plt.subplots(3,1,figsize=(17,10), sharex=True)\n",
    "\n",
    "ax1.set_title('Accelerometer Readings')\n",
    "ax1.plot(df['Time'], df['AccX'], color= 'teal',label='X')\n",
    "ax1.plot(df['Time'], df['AccY'], color= 'lightsteelblue',label='Y')\n",
    "ax1.plot(df['Time'], df['AccZ'], color= 'darkblue',label='Z')\n",
    "ax1.axvline(x = 7, color = 'red', alpha = 0.5)\n",
    "ax1.axvline(x = 70, color = 'red', alpha = 0.5)\n",
    "ax1.set_ylabel('Acceleration [mg]')\n",
    "ax1.legend()\n",
    "\n",
    "ax2.plot(df['Time'], df['GyroX'],color = 'indianred', label='X')\n",
    "ax2.plot(df['Time'], df['GyroY'],color = 'red' , label='Y')\n",
    "ax2.plot(df['Time'], df['GyroZ'],color = 'orangered' , label='Z')\n",
    "ax2.set_title('Gyroscope Readings')\n",
    "ax2.axvline(x = 7, color = 'red', alpha = 0.5)\n",
    "ax2.axvline(x = 70, color = 'red', alpha = 0.5)\n",
    "ax2.set_ylabel('Angular Velocity [dps]')\n",
    "ax2.legend()\n",
    "\n",
    "ax3.plot(df['Time'], df['MagnX'],color = 'forestgreen' , label='X')\n",
    "ax3.plot(df['Time'], df['MagnY'], color = 'lime', label='Y')\n",
    "ax3.plot(df['Time'], df['MagnZ'], color = 'springgreen', label='Z')\n",
    "ax3.set_title('Magnetometer Readings')\n",
    "ax3.axvline(x = 7, color = 'red', alpha = 0.5)\n",
    "ax3.axvline(x = 70, color = 'red', alpha = 0.5)\n",
    "ax3.set_xlabel('Time [s]')\n",
    "ax3.set_ylabel('Magnetic Field [mG]') \n",
    "ax3.legend()\n",
    "\n",
    "plt.show()"
   ]
  },
  {
   "cell_type": "code",
   "execution_count": 10,
   "metadata": {},
   "outputs": [],
   "source": [
    "#empty cell, do not delete, just edit"
   ]
  },
  {
   "cell_type": "code",
   "execution_count": 11,
   "metadata": {},
   "outputs": [],
   "source": [
    "#empty cell, do not delete, just edit"
   ]
  },
  {
   "cell_type": "code",
   "execution_count": 12,
   "metadata": {},
   "outputs": [],
   "source": [
    "#empty cell, do not delete, just edit"
   ]
  },
  {
   "cell_type": "markdown",
   "metadata": {},
   "source": [
    "## Remove unimportant columns and limit time between thresholds"
   ]
  },
  {
   "cell_type": "code",
   "execution_count": 13,
   "metadata": {},
   "outputs": [
    {
     "data": {
      "text/html": [
       "<div>\n",
       "<style scoped>\n",
       "    .dataframe tbody tr th:only-of-type {\n",
       "        vertical-align: middle;\n",
       "    }\n",
       "\n",
       "    .dataframe tbody tr th {\n",
       "        vertical-align: top;\n",
       "    }\n",
       "\n",
       "    .dataframe thead th {\n",
       "        text-align: right;\n",
       "    }\n",
       "</style>\n",
       "<table border=\"1\" class=\"dataframe\">\n",
       "  <thead>\n",
       "    <tr style=\"text-align: right;\">\n",
       "      <th></th>\n",
       "      <th>AccX</th>\n",
       "      <th>AccY</th>\n",
       "      <th>AccZ</th>\n",
       "      <th>GyroX</th>\n",
       "      <th>GyroY</th>\n",
       "      <th>GyroZ</th>\n",
       "      <th>MagnX</th>\n",
       "      <th>MagnY</th>\n",
       "      <th>MagnZ</th>\n",
       "    </tr>\n",
       "  </thead>\n",
       "  <tbody>\n",
       "    <tr>\n",
       "      <th>1400</th>\n",
       "      <td>-40.966811</td>\n",
       "      <td>97.029054</td>\n",
       "      <td>-875.184185</td>\n",
       "      <td>-3.845277</td>\n",
       "      <td>6.826058</td>\n",
       "      <td>-1.466489</td>\n",
       "      <td>-280.758336</td>\n",
       "      <td>-636.976552</td>\n",
       "      <td>394.773322</td>\n",
       "    </tr>\n",
       "    <tr>\n",
       "      <th>1401</th>\n",
       "      <td>-34.987088</td>\n",
       "      <td>86.098363</td>\n",
       "      <td>-919.513010</td>\n",
       "      <td>-3.723140</td>\n",
       "      <td>6.642852</td>\n",
       "      <td>-1.909237</td>\n",
       "      <td>-279.862302</td>\n",
       "      <td>-636.084927</td>\n",
       "      <td>394.781061</td>\n",
       "    </tr>\n",
       "    <tr>\n",
       "      <th>1402</th>\n",
       "      <td>-40.518149</td>\n",
       "      <td>94.134202</td>\n",
       "      <td>-895.697231</td>\n",
       "      <td>-3.692606</td>\n",
       "      <td>6.993997</td>\n",
       "      <td>-1.603893</td>\n",
       "      <td>-279.862302</td>\n",
       "      <td>-636.084927</td>\n",
       "      <td>394.781061</td>\n",
       "    </tr>\n",
       "    <tr>\n",
       "      <th>1403</th>\n",
       "      <td>-35.181772</td>\n",
       "      <td>86.193470</td>\n",
       "      <td>-903.405417</td>\n",
       "      <td>-3.417797</td>\n",
       "      <td>7.207738</td>\n",
       "      <td>-1.802366</td>\n",
       "      <td>-280.801358</td>\n",
       "      <td>-635.142542</td>\n",
       "      <td>395.656637</td>\n",
       "    </tr>\n",
       "    <tr>\n",
       "      <th>1404</th>\n",
       "      <td>-31.341134</td>\n",
       "      <td>88.631706</td>\n",
       "      <td>-903.044484</td>\n",
       "      <td>-3.555201</td>\n",
       "      <td>7.268807</td>\n",
       "      <td>-1.985573</td>\n",
       "      <td>-280.801358</td>\n",
       "      <td>-635.142542</td>\n",
       "      <td>395.656637</td>\n",
       "    </tr>\n",
       "    <tr>\n",
       "      <th>...</th>\n",
       "      <td>...</td>\n",
       "      <td>...</td>\n",
       "      <td>...</td>\n",
       "      <td>...</td>\n",
       "      <td>...</td>\n",
       "      <td>...</td>\n",
       "      <td>...</td>\n",
       "      <td>...</td>\n",
       "      <td>...</td>\n",
       "    </tr>\n",
       "    <tr>\n",
       "      <th>13996</th>\n",
       "      <td>-34.443708</td>\n",
       "      <td>104.012984</td>\n",
       "      <td>-884.386623</td>\n",
       "      <td>-5.417797</td>\n",
       "      <td>6.322242</td>\n",
       "      <td>-1.497023</td>\n",
       "      <td>-277.245071</td>\n",
       "      <td>-631.610104</td>\n",
       "      <td>388.689191</td>\n",
       "    </tr>\n",
       "    <tr>\n",
       "      <th>13997</th>\n",
       "      <td>-36.395733</td>\n",
       "      <td>103.541515</td>\n",
       "      <td>-885.425685</td>\n",
       "      <td>-5.234590</td>\n",
       "      <td>6.642852</td>\n",
       "      <td>-1.268015</td>\n",
       "      <td>-277.245071</td>\n",
       "      <td>-631.610104</td>\n",
       "      <td>388.689191</td>\n",
       "    </tr>\n",
       "    <tr>\n",
       "      <th>13998</th>\n",
       "      <td>-26.245083</td>\n",
       "      <td>99.049690</td>\n",
       "      <td>-891.489056</td>\n",
       "      <td>-5.265125</td>\n",
       "      <td>6.749723</td>\n",
       "      <td>-1.283282</td>\n",
       "      <td>-278.117853</td>\n",
       "      <td>-633.416605</td>\n",
       "      <td>388.677195</td>\n",
       "    </tr>\n",
       "    <tr>\n",
       "      <th>13999</th>\n",
       "      <td>-42.264295</td>\n",
       "      <td>104.980254</td>\n",
       "      <td>-880.401686</td>\n",
       "      <td>-5.097186</td>\n",
       "      <td>6.383310</td>\n",
       "      <td>-1.603893</td>\n",
       "      <td>-278.117853</td>\n",
       "      <td>-633.416605</td>\n",
       "      <td>388.677195</td>\n",
       "    </tr>\n",
       "    <tr>\n",
       "      <th>14000</th>\n",
       "      <td>-45.003985</td>\n",
       "      <td>99.182862</td>\n",
       "      <td>-872.061215</td>\n",
       "      <td>-5.142987</td>\n",
       "      <td>5.910028</td>\n",
       "      <td>-1.558092</td>\n",
       "      <td>-276.332748</td>\n",
       "      <td>-631.641871</td>\n",
       "      <td>386.943072</td>\n",
       "    </tr>\n",
       "  </tbody>\n",
       "</table>\n",
       "<p>12601 rows × 9 columns</p>\n",
       "</div>"
      ],
      "text/plain": [
       "            AccX        AccY        AccZ     GyroX     GyroY     GyroZ  \\\n",
       "1400  -40.966811   97.029054 -875.184185 -3.845277  6.826058 -1.466489   \n",
       "1401  -34.987088   86.098363 -919.513010 -3.723140  6.642852 -1.909237   \n",
       "1402  -40.518149   94.134202 -895.697231 -3.692606  6.993997 -1.603893   \n",
       "1403  -35.181772   86.193470 -903.405417 -3.417797  7.207738 -1.802366   \n",
       "1404  -31.341134   88.631706 -903.044484 -3.555201  7.268807 -1.985573   \n",
       "...          ...         ...         ...       ...       ...       ...   \n",
       "13996 -34.443708  104.012984 -884.386623 -5.417797  6.322242 -1.497023   \n",
       "13997 -36.395733  103.541515 -885.425685 -5.234590  6.642852 -1.268015   \n",
       "13998 -26.245083   99.049690 -891.489056 -5.265125  6.749723 -1.283282   \n",
       "13999 -42.264295  104.980254 -880.401686 -5.097186  6.383310 -1.603893   \n",
       "14000 -45.003985   99.182862 -872.061215 -5.142987  5.910028 -1.558092   \n",
       "\n",
       "            MagnX       MagnY       MagnZ  \n",
       "1400  -280.758336 -636.976552  394.773322  \n",
       "1401  -279.862302 -636.084927  394.781061  \n",
       "1402  -279.862302 -636.084927  394.781061  \n",
       "1403  -280.801358 -635.142542  395.656637  \n",
       "1404  -280.801358 -635.142542  395.656637  \n",
       "...           ...         ...         ...  \n",
       "13996 -277.245071 -631.610104  388.689191  \n",
       "13997 -277.245071 -631.610104  388.689191  \n",
       "13998 -278.117853 -633.416605  388.677195  \n",
       "13999 -278.117853 -633.416605  388.677195  \n",
       "14000 -276.332748 -631.641871  386.943072  \n",
       "\n",
       "[12601 rows x 9 columns]"
      ]
     },
     "metadata": {},
     "output_type": "display_data"
    }
   ],
   "source": [
    "# Cut the misleading rows\n",
    "df_timecut = df.loc[(df['Time'] >= 7) & (df['Time'] <= 70)] #limit analysis in specified time frame\n",
    "\n",
    "# Select the columns we need for the PCA\n",
    "df_time_frame = df_timecut.drop(['Log Mode', 'Log Freq', 'Timestamp', 'Time'], axis=1) #drop uninmportant columns\n",
    "display(df_time_frame)"
   ]
  },
  {
   "cell_type": "code",
   "execution_count": 14,
   "metadata": {},
   "outputs": [],
   "source": [
    "#empty cell, do not delete, just edit"
   ]
  },
  {
   "cell_type": "code",
   "execution_count": 15,
   "metadata": {},
   "outputs": [],
   "source": [
    "#empty cell, do not delete, just edit"
   ]
  },
  {
   "cell_type": "code",
   "execution_count": 16,
   "metadata": {},
   "outputs": [],
   "source": [
    "#empty cell, do not delete, just edit"
   ]
  },
  {
   "cell_type": "markdown",
   "metadata": {},
   "source": [
    "# STATISTICAL QUANTITIES\n",
    "\n",
    "In these cells I've displayed the statistical quantities and centered the data. Ideally we would now apply a PCA procedure on the dataset"
   ]
  },
  {
   "cell_type": "code",
   "execution_count": 17,
   "metadata": {},
   "outputs": [
    {
     "data": {
      "text/html": [
       "<div>\n",
       "<style scoped>\n",
       "    .dataframe tbody tr th:only-of-type {\n",
       "        vertical-align: middle;\n",
       "    }\n",
       "\n",
       "    .dataframe tbody tr th {\n",
       "        vertical-align: top;\n",
       "    }\n",
       "\n",
       "    .dataframe thead th {\n",
       "        text-align: right;\n",
       "    }\n",
       "</style>\n",
       "<table border=\"1\" class=\"dataframe\">\n",
       "  <thead>\n",
       "    <tr style=\"text-align: right;\">\n",
       "      <th></th>\n",
       "      <th>AccX</th>\n",
       "      <th>AccY</th>\n",
       "      <th>AccZ</th>\n",
       "      <th>GyroX</th>\n",
       "      <th>GyroY</th>\n",
       "      <th>GyroZ</th>\n",
       "      <th>MagnX</th>\n",
       "      <th>MagnY</th>\n",
       "      <th>MagnZ</th>\n",
       "    </tr>\n",
       "  </thead>\n",
       "  <tbody>\n",
       "    <tr>\n",
       "      <th>mean</th>\n",
       "      <td>-34.301107</td>\n",
       "      <td>100.672668</td>\n",
       "      <td>-892.751709</td>\n",
       "      <td>-4.328942</td>\n",
       "      <td>6.645621</td>\n",
       "      <td>-1.585198</td>\n",
       "      <td>-278.673423</td>\n",
       "      <td>-633.734049</td>\n",
       "      <td>391.232698</td>\n",
       "    </tr>\n",
       "    <tr>\n",
       "      <th>median</th>\n",
       "      <td>-34.255264</td>\n",
       "      <td>100.925927</td>\n",
       "      <td>-893.136026</td>\n",
       "      <td>-4.394896</td>\n",
       "      <td>6.597051</td>\n",
       "      <td>-1.573359</td>\n",
       "      <td>-278.966269</td>\n",
       "      <td>-633.422827</td>\n",
       "      <td>391.289599</td>\n",
       "    </tr>\n",
       "    <tr>\n",
       "      <th>variance</th>\n",
       "      <td>50.283779</td>\n",
       "      <td>30.225341</td>\n",
       "      <td>214.154767</td>\n",
       "      <td>2.100338</td>\n",
       "      <td>0.538998</td>\n",
       "      <td>0.156231</td>\n",
       "      <td>1.445253</td>\n",
       "      <td>3.157548</td>\n",
       "      <td>6.844151</td>\n",
       "    </tr>\n",
       "    <tr>\n",
       "      <th>standard deviation</th>\n",
       "      <td>7.091106</td>\n",
       "      <td>5.497758</td>\n",
       "      <td>14.634028</td>\n",
       "      <td>1.449254</td>\n",
       "      <td>0.734165</td>\n",
       "      <td>0.395261</td>\n",
       "      <td>1.202187</td>\n",
       "      <td>1.776949</td>\n",
       "      <td>2.616133</td>\n",
       "    </tr>\n",
       "    <tr>\n",
       "      <th>25% percentile</th>\n",
       "      <td>-38.951062</td>\n",
       "      <td>97.261279</td>\n",
       "      <td>-901.522903</td>\n",
       "      <td>-4.944514</td>\n",
       "      <td>6.230639</td>\n",
       "      <td>-1.832901</td>\n",
       "      <td>-279.106893</td>\n",
       "      <td>-635.187081</td>\n",
       "      <td>388.689191</td>\n",
       "    </tr>\n",
       "    <tr>\n",
       "      <th>75% percentile</th>\n",
       "      <td>-29.585315</td>\n",
       "      <td>104.273711</td>\n",
       "      <td>-884.748964</td>\n",
       "      <td>-3.707873</td>\n",
       "      <td>6.963463</td>\n",
       "      <td>-1.329084</td>\n",
       "      <td>-278.050465</td>\n",
       "      <td>-632.478477</td>\n",
       "      <td>393.908965</td>\n",
       "    </tr>\n",
       "  </tbody>\n",
       "</table>\n",
       "</div>"
      ],
      "text/plain": [
       "                         AccX        AccY        AccZ     GyroX     GyroY  \\\n",
       "mean               -34.301107  100.672668 -892.751709 -4.328942  6.645621   \n",
       "median             -34.255264  100.925927 -893.136026 -4.394896  6.597051   \n",
       "variance            50.283779   30.225341  214.154767  2.100338  0.538998   \n",
       "standard deviation   7.091106    5.497758   14.634028  1.449254  0.734165   \n",
       "25% percentile     -38.951062   97.261279 -901.522903 -4.944514  6.230639   \n",
       "75% percentile     -29.585315  104.273711 -884.748964 -3.707873  6.963463   \n",
       "\n",
       "                       GyroZ       MagnX       MagnY       MagnZ  \n",
       "mean               -1.585198 -278.673423 -633.734049  391.232698  \n",
       "median             -1.573359 -278.966269 -633.422827  391.289599  \n",
       "variance            0.156231    1.445253    3.157548    6.844151  \n",
       "standard deviation  0.395261    1.202187    1.776949    2.616133  \n",
       "25% percentile     -1.832901 -279.106893 -635.187081  388.689191  \n",
       "75% percentile     -1.329084 -278.050465 -632.478477  393.908965  "
      ]
     },
     "metadata": {},
     "output_type": "display_data"
    },
    {
     "data": {
      "text/html": [
       "<div>\n",
       "<style scoped>\n",
       "    .dataframe tbody tr th:only-of-type {\n",
       "        vertical-align: middle;\n",
       "    }\n",
       "\n",
       "    .dataframe tbody tr th {\n",
       "        vertical-align: top;\n",
       "    }\n",
       "\n",
       "    .dataframe thead th {\n",
       "        text-align: right;\n",
       "    }\n",
       "</style>\n",
       "<table border=\"1\" class=\"dataframe\">\n",
       "  <thead>\n",
       "    <tr style=\"text-align: right;\">\n",
       "      <th></th>\n",
       "      <th>AccX</th>\n",
       "      <th>AccY</th>\n",
       "      <th>AccZ</th>\n",
       "      <th>GyroX</th>\n",
       "      <th>GyroY</th>\n",
       "      <th>GyroZ</th>\n",
       "      <th>MagnX</th>\n",
       "      <th>MagnY</th>\n",
       "      <th>MagnZ</th>\n",
       "    </tr>\n",
       "  </thead>\n",
       "  <tbody>\n",
       "    <tr>\n",
       "      <th>1400</th>\n",
       "      <td>-0.940009</td>\n",
       "      <td>-0.662745</td>\n",
       "      <td>1.200457</td>\n",
       "      <td>0.333734</td>\n",
       "      <td>0.245772</td>\n",
       "      <td>0.300333</td>\n",
       "      <td>-1.734266</td>\n",
       "      <td>-1.824758</td>\n",
       "      <td>1.353381</td>\n",
       "    </tr>\n",
       "    <tr>\n",
       "      <th>1401</th>\n",
       "      <td>-0.096738</td>\n",
       "      <td>-2.650954</td>\n",
       "      <td>-1.828704</td>\n",
       "      <td>0.418009</td>\n",
       "      <td>-0.003771</td>\n",
       "      <td>-0.819810</td>\n",
       "      <td>-0.988930</td>\n",
       "      <td>-1.322986</td>\n",
       "      <td>1.356339</td>\n",
       "    </tr>\n",
       "    <tr>\n",
       "      <th>1402</th>\n",
       "      <td>-0.876738</td>\n",
       "      <td>-1.189297</td>\n",
       "      <td>-0.201279</td>\n",
       "      <td>0.439078</td>\n",
       "      <td>0.474521</td>\n",
       "      <td>-0.047297</td>\n",
       "      <td>-0.988930</td>\n",
       "      <td>-1.322986</td>\n",
       "      <td>1.356339</td>\n",
       "    </tr>\n",
       "    <tr>\n",
       "      <th>1403</th>\n",
       "      <td>-0.124193</td>\n",
       "      <td>-2.633655</td>\n",
       "      <td>-0.728009</td>\n",
       "      <td>0.628699</td>\n",
       "      <td>0.765655</td>\n",
       "      <td>-0.549429</td>\n",
       "      <td>-1.770053</td>\n",
       "      <td>-0.792647</td>\n",
       "      <td>1.691023</td>\n",
       "    </tr>\n",
       "    <tr>\n",
       "      <th>1404</th>\n",
       "      <td>0.417421</td>\n",
       "      <td>-2.190159</td>\n",
       "      <td>-0.703345</td>\n",
       "      <td>0.533889</td>\n",
       "      <td>0.848837</td>\n",
       "      <td>-1.012938</td>\n",
       "      <td>-1.770053</td>\n",
       "      <td>-0.792647</td>\n",
       "      <td>1.691023</td>\n",
       "    </tr>\n",
       "    <tr>\n",
       "      <th>...</th>\n",
       "      <td>...</td>\n",
       "      <td>...</td>\n",
       "      <td>...</td>\n",
       "      <td>...</td>\n",
       "      <td>...</td>\n",
       "      <td>...</td>\n",
       "      <td>...</td>\n",
       "      <td>...</td>\n",
       "      <td>...</td>\n",
       "    </tr>\n",
       "    <tr>\n",
       "      <th>13996</th>\n",
       "      <td>-0.020110</td>\n",
       "      <td>0.607578</td>\n",
       "      <td>0.571619</td>\n",
       "      <td>-0.751321</td>\n",
       "      <td>-0.440472</td>\n",
       "      <td>0.223082</td>\n",
       "      <td>1.188128</td>\n",
       "      <td>1.195276</td>\n",
       "      <td>-0.972239</td>\n",
       "    </tr>\n",
       "    <tr>\n",
       "      <th>13997</th>\n",
       "      <td>-0.295388</td>\n",
       "      <td>0.521821</td>\n",
       "      <td>0.500616</td>\n",
       "      <td>-0.624906</td>\n",
       "      <td>-0.003771</td>\n",
       "      <td>0.802466</td>\n",
       "      <td>1.188128</td>\n",
       "      <td>1.195276</td>\n",
       "      <td>-0.972239</td>\n",
       "    </tr>\n",
       "    <tr>\n",
       "      <th>13998</th>\n",
       "      <td>1.136074</td>\n",
       "      <td>-0.295207</td>\n",
       "      <td>0.086282</td>\n",
       "      <td>-0.645976</td>\n",
       "      <td>0.141797</td>\n",
       "      <td>0.763840</td>\n",
       "      <td>0.462133</td>\n",
       "      <td>0.178646</td>\n",
       "      <td>-0.976825</td>\n",
       "    </tr>\n",
       "    <tr>\n",
       "      <th>13999</th>\n",
       "      <td>-1.122983</td>\n",
       "      <td>0.783517</td>\n",
       "      <td>0.843925</td>\n",
       "      <td>-0.530096</td>\n",
       "      <td>-0.357292</td>\n",
       "      <td>-0.047297</td>\n",
       "      <td>0.462133</td>\n",
       "      <td>0.178646</td>\n",
       "      <td>-0.976825</td>\n",
       "    </tr>\n",
       "    <tr>\n",
       "      <th>14000</th>\n",
       "      <td>-1.509338</td>\n",
       "      <td>-0.270984</td>\n",
       "      <td>1.413862</td>\n",
       "      <td>-0.561699</td>\n",
       "      <td>-1.001945</td>\n",
       "      <td>0.068579</td>\n",
       "      <td>1.947015</td>\n",
       "      <td>1.177399</td>\n",
       "      <td>-1.639682</td>\n",
       "    </tr>\n",
       "  </tbody>\n",
       "</table>\n",
       "<p>12601 rows × 9 columns</p>\n",
       "</div>"
      ],
      "text/plain": [
       "           AccX      AccY      AccZ     GyroX     GyroY     GyroZ     MagnX  \\\n",
       "1400  -0.940009 -0.662745  1.200457  0.333734  0.245772  0.300333 -1.734266   \n",
       "1401  -0.096738 -2.650954 -1.828704  0.418009 -0.003771 -0.819810 -0.988930   \n",
       "1402  -0.876738 -1.189297 -0.201279  0.439078  0.474521 -0.047297 -0.988930   \n",
       "1403  -0.124193 -2.633655 -0.728009  0.628699  0.765655 -0.549429 -1.770053   \n",
       "1404   0.417421 -2.190159 -0.703345  0.533889  0.848837 -1.012938 -1.770053   \n",
       "...         ...       ...       ...       ...       ...       ...       ...   \n",
       "13996 -0.020110  0.607578  0.571619 -0.751321 -0.440472  0.223082  1.188128   \n",
       "13997 -0.295388  0.521821  0.500616 -0.624906 -0.003771  0.802466  1.188128   \n",
       "13998  1.136074 -0.295207  0.086282 -0.645976  0.141797  0.763840  0.462133   \n",
       "13999 -1.122983  0.783517  0.843925 -0.530096 -0.357292 -0.047297  0.462133   \n",
       "14000 -1.509338 -0.270984  1.413862 -0.561699 -1.001945  0.068579  1.947015   \n",
       "\n",
       "          MagnY     MagnZ  \n",
       "1400  -1.824758  1.353381  \n",
       "1401  -1.322986  1.356339  \n",
       "1402  -1.322986  1.356339  \n",
       "1403  -0.792647  1.691023  \n",
       "1404  -0.792647  1.691023  \n",
       "...         ...       ...  \n",
       "13996  1.195276 -0.972239  \n",
       "13997  1.195276 -0.972239  \n",
       "13998  0.178646 -0.976825  \n",
       "13999  0.178646 -0.976825  \n",
       "14000  1.177399 -1.639682  \n",
       "\n",
       "[12601 rows x 9 columns]"
      ]
     },
     "metadata": {},
     "output_type": "display_data"
    }
   ],
   "source": [
    "statistics = pd.DataFrame({\n",
    "    'mean'  : df_time_frame.mean(),\n",
    "    'median': df_time_frame.median(),\n",
    "    'variance': df_time_frame.var(),\n",
    "    'standard deviation': df_time_frame.std(),\n",
    "    '25% percentile' : df_time_frame.quantile(q=0.25),\n",
    "    '75% percentile': df_time_frame.quantile(q=0.75)}).T\n",
    "\n",
    "display(statistics)\n",
    "\n",
    "centered_df = (df_time_frame - statistics.iloc[0])\n",
    "\n",
    "standardized_df = centered_df/statistics.iloc[3]\n",
    "\n",
    "display(standardized_df)"
   ]
  },
  {
   "cell_type": "code",
   "execution_count": 18,
   "metadata": {},
   "outputs": [],
   "source": [
    "#empty cell, do not delete, just edit"
   ]
  },
  {
   "cell_type": "code",
   "execution_count": 19,
   "metadata": {},
   "outputs": [],
   "source": [
    "#empty cell, do not delete, just edit"
   ]
  },
  {
   "cell_type": "code",
   "execution_count": 20,
   "metadata": {},
   "outputs": [],
   "source": [
    "#empty cell, do not delete, just edit"
   ]
  },
  {
   "cell_type": "markdown",
   "metadata": {},
   "source": [
    "# PCA"
   ]
  },
  {
   "cell_type": "code",
   "execution_count": 21,
   "metadata": {},
   "outputs": [
    {
     "name": "stdout",
     "output_type": "stream",
     "text": [
      "Covariance matrix is: \n",
      "\n",
      "[[ 1.         -0.18258906 -0.40534598  0.21207383  0.00694783  0.02527068\n",
      "  -0.37884531 -0.02223932  0.07132795]\n",
      " [-0.18258906  1.          0.17543359 -0.05200114  0.00194328 -0.10264916\n",
      "   0.24296646  0.35545905 -0.49314663]\n",
      " [-0.40534598  0.17543359  1.         -0.07794268  0.11182493  0.0170906\n",
      "   0.12428012  0.20368083 -0.24995133]\n",
      " [ 0.21207383 -0.05200114 -0.07794268  1.          0.39781266  0.35024432\n",
      "  -0.06030483 -0.05649073  0.02298868]\n",
      " [ 0.00694783  0.00194328  0.11182493  0.39781266  1.          0.42702172\n",
      "   0.01283499 -0.12856827  0.02335776]\n",
      " [ 0.02527068 -0.10264916  0.0170906   0.35024432  0.42702172  1.\n",
      "  -0.00701684 -0.07065322  0.01202646]\n",
      " [-0.37884531  0.24296646  0.12428012 -0.06030483  0.01283499 -0.00701684\n",
      "   1.          0.22430539 -0.31617861]\n",
      " [-0.02223932  0.35545905  0.20368083 -0.05649073 -0.12856827 -0.07065322\n",
      "   0.22430539  1.         -0.74628961]\n",
      " [ 0.07132795 -0.49314663 -0.24995133  0.02298868  0.02335776  0.01202646\n",
      "  -0.31617861 -0.74628961  1.        ]]\n",
      "\n",
      "\n",
      "[2.50272459 1.76485247 1.37000138 0.22482291 0.87809409 0.40325312\n",
      " 0.52485457 0.61126765 0.72012923]\n",
      "The direction described by the eigenvector [-0.27649715  0.4184365   0.30063207 -0.16504093 -0.10298906 -0.12540755\n",
      "  0.34665872  0.4709425  -0.51239552] with eigenvalue 2.50272 accounts for 27.80805 % of the dataset variance.\n",
      "The direction described by the eigenvector [ 0.01401139  0.08257691  0.1409607   0.52810804  0.59057233  0.55453184\n",
      "  0.09071984  0.0673911  -0.15863109] with eigenvalue 1.76485 accounts for 19.60947 % of the dataset variance.\n",
      "The direction described by the eigenvector [-0.6610099  -0.11809001  0.40365475 -0.19428288  0.14133531  0.06589926\n",
      "  0.25343859 -0.39061837  0.32757512] with eigenvalue 1.37 accounts for 15.22224 % of the dataset variance.\n",
      "The direction described by the eigenvector [ 0.06483857  0.1739709   0.04839548 -0.01953717  0.05659488  0.04304233\n",
      "  0.09542499  0.61822214  0.75262613] with eigenvalue 0.22482 accounts for 2.49803 % of the dataset variance.\n",
      "The direction described by the eigenvector [-0.07458135  0.08168618 -0.66157208  0.09815809 -0.05102686  0.03257937\n",
      "  0.71847384 -0.13331135  0.05301543] with eigenvalue 0.87809 accounts for 9.7566 % of the dataset variance.\n",
      "The direction described by the eigenvector [ 0.61723024  0.18671401  0.46475221 -0.07287671 -0.26048463  0.18691488\n",
      "  0.38797709 -0.31775391  0.09260613] with eigenvalue 0.40325 accounts for 4.48059 % of the dataset variance.\n",
      "The direction described by the eigenvector [-0.3086285   0.23322827 -0.01035258  0.45078759 -0.690702    0.34407281\n",
      " -0.20826628 -0.04351238  0.07945361] with eigenvalue 0.52485 accounts for 5.83172 % of the dataset variance.\n",
      "The direction described by the eigenvector [-0.01943173  0.34320719 -0.26071551 -0.6397445   0.07153058  0.58539981\n",
      " -0.2258277  -0.06960128 -0.03055442] with eigenvalue 0.61127 accounts for 6.79186 % of the dataset variance.\n",
      "The direction described by the eigenvector [-0.00708472  0.74843802 -0.05214573  0.16824786  0.25455269 -0.4165266\n",
      " -0.19276078 -0.33676868  0.14107613] with eigenvalue 0.72013 accounts for 8.00144 % of the dataset variance.\n"
     ]
    }
   ],
   "source": [
    "import scipy.linalg as la\n",
    "\n",
    "cov = np.cov(standardized_df.T) \n",
    "print('Covariance matrix is: \\n')\n",
    "print(cov)\n",
    "l, V = la.eig(cov)\n",
    "print('\\n')\n",
    "print(np.real_if_close(l))\n",
    "\n",
    "var = []\n",
    "for i in range(len(l)):\n",
    "    var.append(np.real_if_close(l[i]/l.sum()))\n",
    "for i in range(len(var)):\n",
    "    print('The direction described by the eigenvector', V[:,i], 'with eigenvalue', np.round(np.real_if_close(l[i]),5), 'accounts for', np.round(var[i]*100,5), '% of the dataset variance.')"
   ]
  },
  {
   "cell_type": "code",
   "execution_count": 22,
   "metadata": {},
   "outputs": [],
   "source": [
    "#empty cell, do not delete, just edit"
   ]
  },
  {
   "cell_type": "code",
   "execution_count": 23,
   "metadata": {},
   "outputs": [],
   "source": [
    "#empty cell, do not delete, just edit"
   ]
  },
  {
   "cell_type": "code",
   "execution_count": 24,
   "metadata": {},
   "outputs": [],
   "source": [
    "#empty cell, do not delete, just edit"
   ]
  },
  {
   "cell_type": "markdown",
   "metadata": {},
   "source": [
    "## Now we rotate the data in the new base, thus taking a linear combination of physical quantities."
   ]
  },
  {
   "cell_type": "code",
   "execution_count": 25,
   "metadata": {},
   "outputs": [
    {
     "name": "stdout",
     "output_type": "stream",
     "text": [
      "Reduction of the number of PC and its accuracy:\n",
      "80.4 %, number of PC =  5\n"
     ]
    }
   ],
   "source": [
    "rotated_data = np.dot(V.T, standardized_df.T) #bring the dataset in the eigenvector basis\n",
    "dataset_rotated = pd.DataFrame(rotated_data.T, columns = ['PC1', 'PC2', 'PC3', 'PC4', 'PC5', 'PC6', 'PC7', 'PC8', 'PC9'])\n",
    "\n",
    "# Find out how many columns of the PCA we can drop while keeping 80% of the info\n",
    "idx = np.argsort(l)[::-1]  # sort the eigenvalues and eigenvectors\n",
    "l_sort = l[idx]\n",
    "V_sort = V[idx]\n",
    "\n",
    "S, i = 0, 0\n",
    "tr = l.sum()\n",
    "while np.real_if_close(S/tr) < 0.8:\n",
    "    S += l_sort[i]\n",
    "    i += 1\n",
    "print(\"Reduction of the number of PC and its accuracy:\")\n",
    "print(np.round(np.real_if_close(S/tr)*100, 2), '%, number of PC = ', i)"
   ]
  },
  {
   "cell_type": "code",
   "execution_count": 26,
   "metadata": {},
   "outputs": [
    {
     "data": {
      "text/html": [
       "<div>\n",
       "<style scoped>\n",
       "    .dataframe tbody tr th:only-of-type {\n",
       "        vertical-align: middle;\n",
       "    }\n",
       "\n",
       "    .dataframe tbody tr th {\n",
       "        vertical-align: top;\n",
       "    }\n",
       "\n",
       "    .dataframe thead th {\n",
       "        text-align: right;\n",
       "    }\n",
       "</style>\n",
       "<table border=\"1\" class=\"dataframe\">\n",
       "  <thead>\n",
       "    <tr style=\"text-align: right;\">\n",
       "      <th></th>\n",
       "      <th>PC1</th>\n",
       "      <th>PC2</th>\n",
       "      <th>PC3</th>\n",
       "      <th>PC4</th>\n",
       "      <th>PC5</th>\n",
       "    </tr>\n",
       "  </thead>\n",
       "  <tbody>\n",
       "    <tr>\n",
       "      <th>0</th>\n",
       "      <td>-1.928588</td>\n",
       "      <td>0.094264</td>\n",
       "      <td>1.890466</td>\n",
       "      <td>-0.372843</td>\n",
       "      <td>-1.679231</td>\n",
       "    </tr>\n",
       "    <tr>\n",
       "      <th>1</th>\n",
       "      <td>-3.258919</td>\n",
       "      <td>-1.108153</td>\n",
       "      <td>0.213514</td>\n",
       "      <td>-0.491081</td>\n",
       "      <td>0.552758</td>\n",
       "    </tr>\n",
       "    <tr>\n",
       "      <th>2</th>\n",
       "      <td>-2.091999</td>\n",
       "      <td>-0.047004</td>\n",
       "      <td>1.327826</td>\n",
       "      <td>-0.148701</td>\n",
       "      <td>-0.343500</td>\n",
       "    </tr>\n",
       "    <tr>\n",
       "      <th>3</th>\n",
       "      <td>-3.253622</td>\n",
       "      <td>-0.324565</td>\n",
       "      <td>0.464058</td>\n",
       "      <td>0.119705</td>\n",
       "      <td>-0.795915</td>\n",
       "    </tr>\n",
       "    <tr>\n",
       "      <th>4</th>\n",
       "      <td>-3.145178</td>\n",
       "      <td>-0.534853</td>\n",
       "      <td>0.063261</td>\n",
       "      <td>0.219781</td>\n",
       "      <td>-0.845051</td>\n",
       "    </tr>\n",
       "    <tr>\n",
       "      <th>...</th>\n",
       "      <td>...</td>\n",
       "      <td>...</td>\n",
       "      <td>...</td>\n",
       "      <td>...</td>\n",
       "      <td>...</td>\n",
       "    </tr>\n",
       "    <tr>\n",
       "      <th>12596</th>\n",
       "      <td>2.045979</td>\n",
       "      <td>-0.060172</td>\n",
       "      <td>-0.213564</td>\n",
       "      <td>0.252003</td>\n",
       "      <td>0.271711</td>\n",
       "    </tr>\n",
       "    <tr>\n",
       "      <th>12597</th>\n",
       "      <td>1.926365</td>\n",
       "      <td>0.564832</td>\n",
       "      <td>0.025205</td>\n",
       "      <td>0.262983</td>\n",
       "      <td>0.341211</td>\n",
       "    </tr>\n",
       "    <tr>\n",
       "      <th>12598</th>\n",
       "      <td>0.329365</td>\n",
       "      <td>0.378792</td>\n",
       "      <td>-0.758031</td>\n",
       "      <td>-0.500639</td>\n",
       "      <td>0.044745</td>\n",
       "    </tr>\n",
       "    <tr>\n",
       "      <th>12599</th>\n",
       "      <td>1.767136</td>\n",
       "      <td>-0.140338</td>\n",
       "      <td>0.767162</td>\n",
       "      <td>-0.488203</td>\n",
       "      <td>-0.189476</td>\n",
       "    </tr>\n",
       "    <tr>\n",
       "      <th>12600</th>\n",
       "      <td>2.985885</td>\n",
       "      <td>-0.178472</td>\n",
       "      <td>1.068854</td>\n",
       "      <td>-0.439741</td>\n",
       "      <td>0.308276</td>\n",
       "    </tr>\n",
       "  </tbody>\n",
       "</table>\n",
       "<p>12601 rows × 5 columns</p>\n",
       "</div>"
      ],
      "text/plain": [
       "            PC1       PC2       PC3       PC4       PC5\n",
       "0     -1.928588  0.094264  1.890466 -0.372843 -1.679231\n",
       "1     -3.258919 -1.108153  0.213514 -0.491081  0.552758\n",
       "2     -2.091999 -0.047004  1.327826 -0.148701 -0.343500\n",
       "3     -3.253622 -0.324565  0.464058  0.119705 -0.795915\n",
       "4     -3.145178 -0.534853  0.063261  0.219781 -0.845051\n",
       "...         ...       ...       ...       ...       ...\n",
       "12596  2.045979 -0.060172 -0.213564  0.252003  0.271711\n",
       "12597  1.926365  0.564832  0.025205  0.262983  0.341211\n",
       "12598  0.329365  0.378792 -0.758031 -0.500639  0.044745\n",
       "12599  1.767136 -0.140338  0.767162 -0.488203 -0.189476\n",
       "12600  2.985885 -0.178472  1.068854 -0.439741  0.308276\n",
       "\n",
       "[12601 rows x 5 columns]"
      ]
     },
     "metadata": {},
     "output_type": "display_data"
    }
   ],
   "source": [
    "dataset_rotated = dataset_rotated.drop(['PC6','PC7', 'PC8', 'PC9'], axis = 1)\n",
    "display(dataset_rotated)"
   ]
  },
  {
   "cell_type": "code",
   "execution_count": 27,
   "metadata": {},
   "outputs": [],
   "source": [
    "#empty cell, do not delete, just edit"
   ]
  },
  {
   "cell_type": "code",
   "execution_count": 28,
   "metadata": {},
   "outputs": [],
   "source": [
    "#empty cell, do not delete, just edit"
   ]
  },
  {
   "cell_type": "markdown",
   "metadata": {},
   "source": [
    "## By using the first 5 principal componenets we retain around 80% of the variability --> We now apply FFT and look for the peaks of each principal component."
   ]
  },
  {
   "cell_type": "code",
   "execution_count": 29,
   "metadata": {},
   "outputs": [
    {
     "data": {
      "image/png": "[encoded data removed]",
      "text/plain": [
       "<Figure size 1080x576 with 1 Axes>"
      ]
     },
     "metadata": {
      "needs_background": "light"
     },
     "output_type": "display_data"
    },
    {
     "name": "stdout",
     "output_type": "stream",
     "text": [
      "Highest peak is at: 69.52 beats per minute\n"
     ]
    }
   ],
   "source": [
    "#from scipy import signal\n",
    "\n",
    "sample_freq = 200\n",
    "\n",
    "# FFT\n",
    "FFTs = {} # create a dictionary to store the FFT of each PC\n",
    "for i in dataset_rotated:\n",
    "    FFTs[i] = np.abs(np.fft.rfft(dataset_rotated[i]))\n",
    "\n",
    "freq_FFT = np.fft.rfftfreq(d = 1/sample_freq, n = len(dataset_rotated['PC1']))\n",
    "\n",
    "# The heartbeat is given by the sum of the different components\n",
    "total_FFT = np.array(FFTs['PC1'] + FFTs['PC2'] + FFTs['PC3'] + FFTs['PC4'] + FFTs['PC5'])\n",
    "\n",
    "# Set frequency limits\n",
    "min_f = 30/60  #minimum for athletes is 30 beats per minute\n",
    "max_f = 120/60 #maximum (sustainable) is around 120 beats per minimum\n",
    "total_FFT[freq_FFT >= max_f] = 0\n",
    "total_FFT[freq_FFT <= min_f] = 0\n",
    "\n",
    "# Plot the frequencies\n",
    "fig2, ax1 = plt.subplots(figsize=(15, 8))\n",
    "for i in FFTs:\n",
    "    ax1.plot(freq_FFT*60, FFTs[i], label=i, alpha = 0.4)\n",
    "ax1.plot(freq_FFT*60, total_FFT, label='Sum of FFT', color = 'firebrick', linewidth = 2)\n",
    "ax1.set_xlim([min_f*60-10, max_f*60+10])\n",
    "ax1.set_ylim([0, 7000])\n",
    "ax1.set_xlabel('Beats per minute')\n",
    "ax1.set_ylabel('Power')\n",
    "ax1.set_title('Fast Fourier Transform of the data after PCA')\n",
    "ax1.legend()\n",
    "plt.show()\n",
    "\n",
    "# Also filter frequecies for the individual FFTs in case we need them:\n",
    "for i in dataset_rotated:\n",
    "    FFTs[i][freq_FFT <= min_f] = 0\n",
    "    FFTs[i][freq_FFT >= max_f] = 0\n",
    "\n",
    "# Find the value of the highest peak\n",
    "idx_max = np.argmax(total_FFT)\n",
    "peak_freq = freq_FFT[idx_max]*60\n",
    "print(\"Highest peak is at:\", np.round(peak_freq,2), \"beats per minute\")"
   ]
  },
  {
   "cell_type": "code",
   "execution_count": 87,
   "metadata": {},
   "outputs": [
    {
     "data": {
      "image/png": "[encoded data removed]",
      "text/plain": [
       "<Figure size 720x432 with 1 Axes>"
      ]
     },
     "metadata": {
      "needs_background": "light"
     },
     "output_type": "display_data"
    },
    {
     "data": {
      "image/png": "[encoded data removed]",
      "text/plain": [
       "<Figure size 720x432 with 1 Axes>"
      ]
     },
     "metadata": {
      "needs_background": "light"
     },
     "output_type": "display_data"
    }
   ],
   "source": [
    "# TO DO THESE PLOTS WE CUT HALF BECAUSE THEY ARE SYMMETRIC. UNDERSTAND WHY AND WHAT THIS SIGNAL MEANS.\n",
    "\n",
    "\n",
    "# Inverse transform\n",
    "total_signal = np.fft.irfft(total_FFT)\n",
    "PC1_signal =  np.fft.irfft(FFTs['PC1'])\n",
    "PC2_signal = np.fft.irfft(FFTs['PC2'])\n",
    "\n",
    "# Plot right now signal before filtering\n",
    "# PCs\n",
    "fig = plt.subplots(figsize = (10,6))\n",
    "plt.plot(PC1_signal, color = 'red')\n",
    "plt.plot(PC2_signal, color = 'blue', alpha = 0.5)\n",
    "plt.xlim([0,6000])\n",
    "plt.ylim([-3,3])\n",
    "plt.show()\n",
    "\n",
    "# Total signal\n",
    "fig2 = plt.subplots(figsize = (10,6))\n",
    "plt.plot(total_signal)\n",
    "plt.xlim([0,6000])\n",
    "plt.show()"
   ]
  },
  {
   "cell_type": "code",
   "execution_count": 31,
   "metadata": {},
   "outputs": [],
   "source": [
    "# C) nico empty cell, do not delete, just edit"
   ]
  },
  {
   "cell_type": "code",
   "execution_count": 32,
   "metadata": {},
   "outputs": [],
   "source": [
    "# D) marco empty cell, do not delete, just edit"
   ]
  },
  {
   "cell_type": "markdown",
   "metadata": {},
   "source": [
    "# FILTER"
   ]
  },
  {
   "cell_type": "markdown",
   "metadata": {},
   "source": [
    "## (a) Directly from Fourier Analysis, antitrasform data looking for the most interesting frequency band. \n",
    "\n",
    "## --> I DON'T THINK THIS IS CORRECT, BECAUSE WE WOULD BE ONLY TAKING INTO ACCOUNT ONE OF THE FREQUENCIES, THE MOST COMMON ONE, AND DISMISSING THE REST. I LEAVE THE CODE IN CASE IS USEFUL FOR LATER THINGS."
   ]
  },
  {
   "cell_type": "code",
   "execution_count": 33,
   "metadata": {},
   "outputs": [
    {
     "data": {
      "text/plain": [
       "[<matplotlib.lines.Line2D at 0x156d90bf670>]"
      ]
     },
     "execution_count": 33,
     "metadata": {},
     "output_type": "execute_result"
    },
    {
     "data": {
      "image/png": "[encoded data removed]",
      "text/plain": [
       "<Figure size 576x432 with 1 Axes>"
      ]
     },
     "metadata": {
      "needs_background": "light"
     },
     "output_type": "display_data"
    }
   ],
   "source": [
    "# We know what the peak of the Fourier transform is,\n",
    "# now we need to filter it taking into account the error\n",
    "\n",
    "X_peak = freq_FFT[idx_max-10:idx_max+10]\n",
    "Y_peak = total_FFT[(idx_max-10):(idx_max+10)]\n",
    "\n",
    "# We fit to a gaussian\n",
    "def gauss(x, height, amp, mu, sigma):\n",
    "    return height + amp*np.exp(-0.5*((x - mu)/sigma)**2)\n",
    "\n",
    "popt, pcov = curve_fit(gauss, X_peak, Y_peak, p0 = (500, 0., freq_FFT[idx_max], 0.5))\n",
    "\n",
    "X_cont = np.linspace(freq_FFT[idx_max-10], freq_FFT[idx_max+10],100)\n",
    "# Plot\n",
    "fig = plt.figure(figsize=(8,6))\n",
    "plt.title('Heart Rate FFT')\n",
    "plt.plot(X_peak, Y_peak, '.b')\n",
    "plt.plot(X_cont, gauss(X_cont, *popt), color = 'orange', label='T max')"
   ]
  },
  {
   "cell_type": "code",
   "execution_count": 34,
   "metadata": {},
   "outputs": [
    {
     "name": "stdout",
     "output_type": "stream",
     "text": [
      "69.51829219903183 +/- 0.9584123886875241\n"
     ]
    }
   ],
   "source": [
    "sigma = popt[3]\n",
    "FWHM = 2*np.sqrt(np.log(2))*sigma\n",
    "\n",
    "print(peak_freq, \"+/-\", FWHM/2*60)"
   ]
  },
  {
   "cell_type": "code",
   "execution_count": 35,
   "metadata": {},
   "outputs": [
    {
     "data": {
      "text/plain": [
       "[<matplotlib.lines.Line2D at 0x156d943a580>]"
      ]
     },
     "execution_count": 35,
     "metadata": {},
     "output_type": "execute_result"
    },
    {
     "data": {
      "image/png": "[encoded data removed]",
      "text/plain": [
       "<Figure size 1080x576 with 1 Axes>"
      ]
     },
     "metadata": {
      "needs_background": "light"
     },
     "output_type": "display_data"
    }
   ],
   "source": [
    "filtered_FFT = total_FFT.copy()\n",
    "# filter (set to zero) all high frequency components that are larger than peak_freq\n",
    "filtered_FFT[freq_FFT > (peak_freq/60 + FWHM/2)] = 0\n",
    "filtered_FFT[freq_FFT < (peak_freq/60 - FWHM/2)] = 0\n",
    "\n",
    "# Plot the result signal\n",
    "fig2, ax1 = plt.subplots(figsize=(15, 8))\n",
    "ax1.set_xlim([0,3])\n",
    "ax1.plot(freq_FFT, filtered_FFT, label='Sum of FFT')"
   ]
  },
  {
   "cell_type": "code",
   "execution_count": 36,
   "metadata": {},
   "outputs": [],
   "source": [
    "# calculate the Inverse Fast Fourier Transform\n",
    "filtered_HB = np.fft.irfft(filtered_FFT)\n",
    "# only take the real part\n",
    "real_filtered_HB = np.real(filtered_HB)"
   ]
  },
  {
   "cell_type": "code",
   "execution_count": 37,
   "metadata": {},
   "outputs": [
    {
     "data": {
      "text/plain": [
       "[<matplotlib.lines.Line2D at 0x156d9631460>]"
      ]
     },
     "execution_count": 37,
     "metadata": {},
     "output_type": "execute_result"
    },
    {
     "data": {
      "image/png": "[encoded data removed]",
      "text/plain": [
       "<Figure size 432x288 with 1 Axes>"
      ]
     },
     "metadata": {
      "needs_background": "light"
     },
     "output_type": "display_data"
    }
   ],
   "source": [
    "plt.plot(real_filtered_HB, color= 'teal',label='X')"
   ]
  },
  {
   "cell_type": "code",
   "execution_count": 38,
   "metadata": {},
   "outputs": [],
   "source": [
    "#empty cell, do not delete, just edit"
   ]
  },
  {
   "cell_type": "markdown",
   "metadata": {},
   "source": [
    "## (b) Choose the appropriate Lowpass/Bandpass/Highpass filter."
   ]
  },
  {
   "cell_type": "code",
   "execution_count": 39,
   "metadata": {},
   "outputs": [],
   "source": [
    "from scipy.signal import butter, sosfilt, sosfreqz\n",
    "\n",
    "#used sos instead of \"standard output\" (i.e. 'ba representation' is numerically garbage at high orders.\n",
    "#Even relatively low order filters can have problems when desired bandwidth is small compared to the sampling frequency)\n",
    "\n",
    "def butter_bandpass(lowcut, highcut, fs, order=5):\n",
    "        nyq = 0.5 * fs\n",
    "        low = lowcut / nyq\n",
    "        high = highcut / nyq\n",
    "        sos = butter(order, [low, high], analog=False, btype='band', output='sos')\n",
    "        return sos\n",
    "\n",
    "def butter_bandpass_filter(data, lowcut, highcut, fs, order=5):\n",
    "        sos = butter_bandpass(lowcut, highcut, fs, order=order)\n",
    "        y = sosfilt(sos, data)\n",
    "        return y"
   ]
  },
  {
   "cell_type": "code",
   "execution_count": 88,
   "metadata": {},
   "outputs": [
    {
     "data": {
      "image/png": "[encoded data removed]",
      "text/plain": [
       "<Figure size 432x288 with 1 Axes>"
      ]
     },
     "metadata": {
      "needs_background": "light"
     },
     "output_type": "display_data"
    }
   ],
   "source": [
    "fs = 200\n",
    "lowcut = 0.7\n",
    "highcut = 2\n",
    "\n",
    "    # Plot the frequency response for a few different orders.\n",
    "plt.figure(1)\n",
    "plt.clf()\n",
    "for order in [3, 6, 9]:\n",
    "    sos = butter_bandpass(lowcut, highcut, fs, order=order)\n",
    "    w, h = sosfreqz(sos, worN=2000)\n",
    "    plt.plot((fs * 0.5 / np.pi) * w, abs(h), label=\"order = %d\" % order)\n",
    "\n",
    "plt.plot([0, 0.5 * fs], [np.sqrt(0.5), np.sqrt(0.5)],'--', label='sqrt(0.5)')\n",
    "plt.xlabel('Frequency (Hz)')\n",
    "plt.ylabel('Gain')\n",
    "plt.xlim(0.5,5)\n",
    "plt.grid(True)\n",
    "plt.legend(loc='best')\n",
    "plt.show()"
   ]
  },
  {
   "cell_type": "code",
   "execution_count": 41,
   "metadata": {},
   "outputs": [
    {
     "data": {
      "text/html": [
       "<div>\n",
       "<style scoped>\n",
       "    .dataframe tbody tr th:only-of-type {\n",
       "        vertical-align: middle;\n",
       "    }\n",
       "\n",
       "    .dataframe tbody tr th {\n",
       "        vertical-align: top;\n",
       "    }\n",
       "\n",
       "    .dataframe thead th {\n",
       "        text-align: right;\n",
       "    }\n",
       "</style>\n",
       "<table border=\"1\" class=\"dataframe\">\n",
       "  <thead>\n",
       "    <tr style=\"text-align: right;\">\n",
       "      <th></th>\n",
       "      <th>PC1</th>\n",
       "      <th>PC2</th>\n",
       "      <th>PC3</th>\n",
       "      <th>PC4</th>\n",
       "      <th>PC5</th>\n",
       "      <th>Time</th>\n",
       "    </tr>\n",
       "  </thead>\n",
       "  <tbody>\n",
       "    <tr>\n",
       "      <th>0</th>\n",
       "      <td>-1.928588</td>\n",
       "      <td>0.094264</td>\n",
       "      <td>1.890466</td>\n",
       "      <td>-0.372843</td>\n",
       "      <td>-1.679231</td>\n",
       "      <td>0.000</td>\n",
       "    </tr>\n",
       "    <tr>\n",
       "      <th>1</th>\n",
       "      <td>-3.258919</td>\n",
       "      <td>-1.108153</td>\n",
       "      <td>0.213514</td>\n",
       "      <td>-0.491081</td>\n",
       "      <td>0.552758</td>\n",
       "      <td>0.005</td>\n",
       "    </tr>\n",
       "    <tr>\n",
       "      <th>2</th>\n",
       "      <td>-2.091999</td>\n",
       "      <td>-0.047004</td>\n",
       "      <td>1.327826</td>\n",
       "      <td>-0.148701</td>\n",
       "      <td>-0.343500</td>\n",
       "      <td>0.010</td>\n",
       "    </tr>\n",
       "    <tr>\n",
       "      <th>3</th>\n",
       "      <td>-3.253622</td>\n",
       "      <td>-0.324565</td>\n",
       "      <td>0.464058</td>\n",
       "      <td>0.119705</td>\n",
       "      <td>-0.795915</td>\n",
       "      <td>0.015</td>\n",
       "    </tr>\n",
       "    <tr>\n",
       "      <th>4</th>\n",
       "      <td>-3.145178</td>\n",
       "      <td>-0.534853</td>\n",
       "      <td>0.063261</td>\n",
       "      <td>0.219781</td>\n",
       "      <td>-0.845051</td>\n",
       "      <td>0.020</td>\n",
       "    </tr>\n",
       "    <tr>\n",
       "      <th>...</th>\n",
       "      <td>...</td>\n",
       "      <td>...</td>\n",
       "      <td>...</td>\n",
       "      <td>...</td>\n",
       "      <td>...</td>\n",
       "      <td>...</td>\n",
       "    </tr>\n",
       "    <tr>\n",
       "      <th>12596</th>\n",
       "      <td>2.045979</td>\n",
       "      <td>-0.060172</td>\n",
       "      <td>-0.213564</td>\n",
       "      <td>0.252003</td>\n",
       "      <td>0.271711</td>\n",
       "      <td>62.980</td>\n",
       "    </tr>\n",
       "    <tr>\n",
       "      <th>12597</th>\n",
       "      <td>1.926365</td>\n",
       "      <td>0.564832</td>\n",
       "      <td>0.025205</td>\n",
       "      <td>0.262983</td>\n",
       "      <td>0.341211</td>\n",
       "      <td>62.985</td>\n",
       "    </tr>\n",
       "    <tr>\n",
       "      <th>12598</th>\n",
       "      <td>0.329365</td>\n",
       "      <td>0.378792</td>\n",
       "      <td>-0.758031</td>\n",
       "      <td>-0.500639</td>\n",
       "      <td>0.044745</td>\n",
       "      <td>62.990</td>\n",
       "    </tr>\n",
       "    <tr>\n",
       "      <th>12599</th>\n",
       "      <td>1.767136</td>\n",
       "      <td>-0.140338</td>\n",
       "      <td>0.767162</td>\n",
       "      <td>-0.488203</td>\n",
       "      <td>-0.189476</td>\n",
       "      <td>62.995</td>\n",
       "    </tr>\n",
       "    <tr>\n",
       "      <th>12600</th>\n",
       "      <td>2.985885</td>\n",
       "      <td>-0.178472</td>\n",
       "      <td>1.068854</td>\n",
       "      <td>-0.439741</td>\n",
       "      <td>0.308276</td>\n",
       "      <td>63.000</td>\n",
       "    </tr>\n",
       "  </tbody>\n",
       "</table>\n",
       "<p>12601 rows × 6 columns</p>\n",
       "</div>"
      ],
      "text/plain": [
       "            PC1       PC2       PC3       PC4       PC5    Time\n",
       "0     -1.928588  0.094264  1.890466 -0.372843 -1.679231   0.000\n",
       "1     -3.258919 -1.108153  0.213514 -0.491081  0.552758   0.005\n",
       "2     -2.091999 -0.047004  1.327826 -0.148701 -0.343500   0.010\n",
       "3     -3.253622 -0.324565  0.464058  0.119705 -0.795915   0.015\n",
       "4     -3.145178 -0.534853  0.063261  0.219781 -0.845051   0.020\n",
       "...         ...       ...       ...       ...       ...     ...\n",
       "12596  2.045979 -0.060172 -0.213564  0.252003  0.271711  62.980\n",
       "12597  1.926365  0.564832  0.025205  0.262983  0.341211  62.985\n",
       "12598  0.329365  0.378792 -0.758031 -0.500639  0.044745  62.990\n",
       "12599  1.767136 -0.140338  0.767162 -0.488203 -0.189476  62.995\n",
       "12600  2.985885 -0.178472  1.068854 -0.439741  0.308276  63.000\n",
       "\n",
       "[12601 rows x 6 columns]"
      ]
     },
     "metadata": {},
     "output_type": "display_data"
    }
   ],
   "source": [
    "dataset_rotated['Time'] = np.arange(0, len(dataset_rotated['PC1']))/sample_freq\n",
    "display(dataset_rotated)"
   ]
  },
  {
   "cell_type": "code",
   "execution_count": 91,
   "metadata": {},
   "outputs": [
    {
     "data": {
      "text/plain": [
       "(-2.0, 2.0)"
      ]
     },
     "execution_count": 91,
     "metadata": {},
     "output_type": "execute_result"
    },
    {
     "data": {
      "image/png": "[encoded data removed]",
      "text/plain": [
       "<Figure size 432x288 with 1 Axes>"
      ]
     },
     "metadata": {
      "needs_background": "light"
     },
     "output_type": "display_data"
    }
   ],
   "source": [
    "filter_total = butter_bandpass_filter(total_signal, lowcut, highcut, fs, order=6)\n",
    "\n",
    "'''\n",
    "filtered_PC1 = butter_bandpass_filter(dataset_rotated['PC1'], lowcut, highcut, fs, order=6)\n",
    "filtered_PC2 = butter_bandpass_filter(dataset_rotated['PC2'], lowcut, highcut, fs, order=6)\n",
    "filtered_PC3 = butter_bandpass_filter(dataset_rotated['PC3'], lowcut, highcut, fs, order=6)\n",
    "filtered_PC4 = butter_bandpass_filter(dataset_rotated['PC4'], lowcut, highcut, fs, order=6)\n",
    "\n",
    "fig, axs = plt.subplots(2, 2, figsize = (10,8))\n",
    "axs[0, 0].plot(dataset_rotated['Time'], dataset_rotated['PC1'], )\n",
    "axs[0, 0].plot(dataset_rotated['Time'], filtered_PC1)\n",
    "axs[0, 0].set_title('PC1')\n",
    "axs[1, 0].plot(dataset_rotated['Time'], dataset_rotated['PC2'], )\n",
    "axs[1, 0].plot(dataset_rotated['Time'], filtered_PC2)\n",
    "axs[1, 0].set_title('PC2')\n",
    "axs[0, 1].plot(dataset_rotated['Time'], dataset_rotated['PC3'], )\n",
    "axs[0, 1].plot(dataset_rotated['Time'], filtered_PC3)\n",
    "axs[0, 1].set_title('PC3')\n",
    "axs[1, 1].plot(dataset_rotated['Time'], dataset_rotated['PC4'], )\n",
    "axs[1, 1].plot(dataset_rotated['Time'], filtered_PC4)\n",
    "axs[1, 1].set_title('PC4')\n",
    "fig.tight_layout()\n",
    "'''\n",
    "\n",
    "plt.plot((filter_total))\n",
    "plt.xlim([2000,5000])\n",
    "plt.ylim([-2,2])"
   ]
  },
  {
   "cell_type": "code",
   "execution_count": 43,
   "metadata": {},
   "outputs": [],
   "source": [
    "#empty cell, do not delete, just edit"
   ]
  },
  {
   "cell_type": "code",
   "execution_count": 44,
   "metadata": {},
   "outputs": [],
   "source": [
    "#empty cell, do not delete, just edit"
   ]
  },
  {
   "cell_type": "markdown",
   "metadata": {},
   "source": [
    "## (c) Wavelet trasform (a powerfull instrument that make a time and frequency analysis of signal)."
   ]
  },
  {
   "cell_type": "code",
   "execution_count": 45,
   "metadata": {},
   "outputs": [],
   "source": [
    "#empty cell, do not delete, just edit"
   ]
  },
  {
   "cell_type": "code",
   "execution_count": 46,
   "metadata": {},
   "outputs": [],
   "source": [
    "#empty cell, do not delete, just edit"
   ]
  },
  {
   "cell_type": "code",
   "execution_count": 47,
   "metadata": {},
   "outputs": [],
   "source": [
    "#empty cell, do not delete, just edit"
   ]
  },
  {
   "cell_type": "code",
   "execution_count": 48,
   "metadata": {},
   "outputs": [],
   "source": [
    "#empty cell, do not delete, just edit"
   ]
  },
  {
   "cell_type": "code",
   "execution_count": 49,
   "metadata": {},
   "outputs": [],
   "source": [
    "#empty cell, do not delete, just edit"
   ]
  },
  {
   "cell_type": "code",
   "execution_count": 50,
   "metadata": {},
   "outputs": [],
   "source": [
    "#empty cell, do not delete, just edit"
   ]
  },
  {
   "cell_type": "markdown",
   "metadata": {},
   "source": [
    "## (d) Find another method by yourselves."
   ]
  },
  {
   "cell_type": "code",
   "execution_count": 51,
   "metadata": {},
   "outputs": [],
   "source": [
    "#empty cell, do not delete, just edit"
   ]
  },
  {
   "cell_type": "code",
   "execution_count": 52,
   "metadata": {},
   "outputs": [],
   "source": [
    "#empty cell, do not delete, just edit"
   ]
  },
  {
   "cell_type": "code",
   "execution_count": 53,
   "metadata": {},
   "outputs": [],
   "source": [
    "#empty cell, do not delete, just edit"
   ]
  },
  {
   "cell_type": "code",
   "execution_count": 54,
   "metadata": {},
   "outputs": [],
   "source": [
    "#empty cell, do not delete, just edit"
   ]
  },
  {
   "cell_type": "code",
   "execution_count": 55,
   "metadata": {},
   "outputs": [],
   "source": [
    "#empty cell, do not delete, just edit"
   ]
  },
  {
   "cell_type": "code",
   "execution_count": 56,
   "metadata": {},
   "outputs": [],
   "source": [
    "#empty cell, do not delete, just edit"
   ]
  },
  {
   "cell_type": "markdown",
   "metadata": {},
   "source": [
    "## Motivate your choice."
   ]
  },
  {
   "cell_type": "code",
   "execution_count": 57,
   "metadata": {},
   "outputs": [],
   "source": [
    "#empty cell, do not delete, just edit"
   ]
  },
  {
   "cell_type": "code",
   "execution_count": 58,
   "metadata": {},
   "outputs": [],
   "source": [
    "#empty cell, do not delete, just edit"
   ]
  },
  {
   "cell_type": "code",
   "execution_count": 59,
   "metadata": {},
   "outputs": [],
   "source": [
    "#empty cell, do not delete, just edit"
   ]
  },
  {
   "cell_type": "code",
   "execution_count": 60,
   "metadata": {},
   "outputs": [],
   "source": [
    "#empty cell, do not delete, just edit"
   ]
  },
  {
   "cell_type": "code",
   "execution_count": 61,
   "metadata": {},
   "outputs": [],
   "source": [
    "#empty cell, do not delete, just edit"
   ]
  },
  {
   "cell_type": "code",
   "execution_count": 62,
   "metadata": {},
   "outputs": [],
   "source": [
    "#empty cell, do not delete, just edit"
   ]
  },
  {
   "cell_type": "markdown",
   "metadata": {},
   "source": [
    "# METRICS"
   ]
  },
  {
   "cell_type": "markdown",
   "metadata": {},
   "source": [
    "## 4.1. Heart Beat Per Minute(BPM): extrapolate BPM, make an histogram of the result. Does it follow a partiular distribution? "
   ]
  },
  {
   "cell_type": "code",
   "execution_count": 63,
   "metadata": {},
   "outputs": [],
   "source": [
    "#empty cell, do not delete, just edit"
   ]
  },
  {
   "cell_type": "code",
   "execution_count": 64,
   "metadata": {},
   "outputs": [],
   "source": [
    "#empty cell, do not delete, just edit"
   ]
  },
  {
   "cell_type": "code",
   "execution_count": 65,
   "metadata": {},
   "outputs": [],
   "source": [
    "#empty cell, do not delete, just edit"
   ]
  },
  {
   "cell_type": "code",
   "execution_count": 66,
   "metadata": {},
   "outputs": [],
   "source": [
    "#empty cell, do not delete, just edit"
   ]
  },
  {
   "cell_type": "code",
   "execution_count": 67,
   "metadata": {},
   "outputs": [],
   "source": [
    "#empty cell, do not delete, just edit"
   ]
  },
  {
   "cell_type": "code",
   "execution_count": 68,
   "metadata": {},
   "outputs": [],
   "source": [
    "#empty cell, do not delete, just edit"
   ]
  },
  {
   "cell_type": "markdown",
   "metadata": {},
   "source": [
    "## 4.2. Heart Rate Variability(HRV): extrapolate HRV, explain why this parameter is important, and plot the results."
   ]
  },
  {
   "cell_type": "code",
   "execution_count": 69,
   "metadata": {},
   "outputs": [],
   "source": [
    "#empty cell, do not delete, just edit"
   ]
  },
  {
   "cell_type": "code",
   "execution_count": 70,
   "metadata": {},
   "outputs": [],
   "source": [
    "#empty cell, do not delete, just edit"
   ]
  },
  {
   "cell_type": "code",
   "execution_count": 71,
   "metadata": {},
   "outputs": [],
   "source": [
    "#empty cell, do not delete, just edit"
   ]
  },
  {
   "cell_type": "code",
   "execution_count": 72,
   "metadata": {},
   "outputs": [],
   "source": [
    "#empty cell, do not delete, just edit"
   ]
  },
  {
   "cell_type": "code",
   "execution_count": 73,
   "metadata": {},
   "outputs": [],
   "source": [
    "#empty cell, do not delete, just edit"
   ]
  },
  {
   "cell_type": "code",
   "execution_count": 74,
   "metadata": {},
   "outputs": [],
   "source": [
    "#empty cell, do not delete, just edit"
   ]
  },
  {
   "cell_type": "markdown",
   "metadata": {},
   "source": [
    "# (OPTIONAL) Algorithm: Elaborate a simple algorithm to extrapolate heart beat even when filter failed (e.g. look at particular threshold...)."
   ]
  },
  {
   "cell_type": "code",
   "execution_count": 75,
   "metadata": {},
   "outputs": [],
   "source": [
    "#empty cell, do not delete, just edit"
   ]
  },
  {
   "cell_type": "code",
   "execution_count": 76,
   "metadata": {},
   "outputs": [],
   "source": [
    "#empty cell, do not delete, just edit"
   ]
  },
  {
   "cell_type": "code",
   "execution_count": 77,
   "metadata": {},
   "outputs": [],
   "source": [
    "#empty cell, do not delete, just edit"
   ]
  },
  {
   "cell_type": "code",
   "execution_count": 78,
   "metadata": {},
   "outputs": [],
   "source": [
    "#empty cell, do not delete, just edit"
   ]
  },
  {
   "cell_type": "code",
   "execution_count": 79,
   "metadata": {},
   "outputs": [],
   "source": [
    "#empty cell, do not delete, just edit"
   ]
  },
  {
   "cell_type": "code",
   "execution_count": 80,
   "metadata": {},
   "outputs": [],
   "source": [
    "#empty cell, do not delete, just edit"
   ]
  },
  {
   "cell_type": "markdown",
   "metadata": {},
   "source": [
    "# CONCLUSIONS"
   ]
  },
  {
   "cell_type": "code",
   "execution_count": 81,
   "metadata": {},
   "outputs": [],
   "source": [
    "#empty cell, do not delete, just edit"
   ]
  },
  {
   "cell_type": "code",
   "execution_count": 82,
   "metadata": {},
   "outputs": [],
   "source": [
    "#empty cell, do not delete, just edit"
   ]
  },
  {
   "cell_type": "code",
   "execution_count": 83,
   "metadata": {},
   "outputs": [],
   "source": [
    "#empty cell, do not delete, just edit"
   ]
  },
  {
   "cell_type": "code",
   "execution_count": 84,
   "metadata": {},
   "outputs": [],
   "source": [
    "#empty cell, do not delete, just edit"
   ]
  },
  {
   "cell_type": "code",
   "execution_count": 85,
   "metadata": {},
   "outputs": [],
   "source": [
    "#empty cell, do not delete, just edit"
   ]
  },
  {
   "cell_type": "code",
   "execution_count": 86,
   "metadata": {},
   "outputs": [],
   "source": [
    "#empty cell, do not delete, just edit"
   ]
  }
 ],
 "metadata": {
  "kernelspec": {
   "display_name": "Python 3",
   "language": "python",
   "name": "python3"
  },
  "language_info": {
   "codemirror_mode": {
    "name": "ipython",
    "version": 3
   },
   "file_extension": ".py",
   "mimetype": "text/x-python",
   "name": "python",
   "nbconvert_exporter": "python",
   "pygments_lexer": "ipython3",
   "version": "3.8.8"
  }
 },
 "nbformat": 4,
 "nbformat_minor": 2
}
